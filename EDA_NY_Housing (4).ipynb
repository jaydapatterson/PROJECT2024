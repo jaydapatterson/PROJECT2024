{
 "cells": [
  {
   "cell_type": "markdown",
   "metadata": {
    "id": "nbJ2tkPtBwrT"
   },
   "source": [
    "## Context\n",
    "The dataset provided is from the city of New York and contains the different attributes of the properties there and the locations in which they are located. The aim is to perform a detailed analysis of this dataset and provide useful insights to facilitate the process of buying and selling real estate."
   ]
  },
  {
   "cell_type": "markdown",
   "metadata": {
    "id": "CVuCWd13RFDS"
   },
   "source": [
    "## Data Description:\n",
    "\n",
    "The detailed data dictionary is given below:\n",
    "\n",
    "* BROKERTITLE - (Dont Need)\n",
    "* TYPE - Type of the property like\n",
    "    * Condo for sale\n",
    "    * House for sale\n",
    "    * Townhouse for sale\n",
    "    * Multi-family home for sale\n",
    "* PRICE\n",
    "* BEDS - Number of bedrooms in the property\n",
    "* BATH - Number of bathrooms in the property\n",
    "* PROPERTYSQFT\n",
    "* ADDRESS (Dont Need)\n",
    "* STATE - City, State and Zipcode (Dont Need)\n",
    "* MAIN_ADDRESS (Dont Need)\n",
    "* ADMINISTRATIVE_AREA_LEVEL_2 (Dont Need)\n",
    "* LOCALITY (Don't Need)\n",
    "* SUBLOCALITY\n",
    "* STREET_NAME (Dont Need)\n",
    "* LONG_NAME (Dont Need)\n",
    "* FORMATTED_ADDRESS (Dont Need)\n",
    "* LATITUDE (Don't need)\n",
    "* LONGITUDE (Don't need)\n"
   ]
  },
  {
   "cell_type": "markdown",
   "metadata": {
    "id": "JffhyoX0BwrY"
   },
   "source": [
    "### 4.1 Sanity Checks"
   ]
  },
  {
   "cell_type": "markdown",
   "metadata": {
    "id": "ZDAT5-bUySBT"
   },
   "source": [
    "**Importing necessary libraries**"
   ]
  },
  {
   "cell_type": "markdown",
   "metadata": {
    "id": "D83VuEYRrXdQ"
   },
   "source": []
  },
  {
   "cell_type": "code",
   "execution_count": null,
   "metadata": {
    "id": "p1SFUqTLxEGM"
   },
   "outputs": [],
   "source": [
    "# Libraries to help with reading and manipulating data\n",
    "import numpy as np\n",
    "import pandas as pd\n",
    "\n",
    "# Libraries to help with data visualization\n",
    "import matplotlib.pyplot as plt\n",
    "import seaborn as sns\n",
    "\n",
    "# to restrict the float value to 3 decimal places\n",
    "pd.set_option('display.float_format', lambda x: '%.2f' % x)\n",
    "\n",
    "# For randomized data splitting\n",
    "from sklearn.model_selection import train_test_split\n",
    "\n",
    "# to build linear regression_model\n",
    "from sklearn.linear_model import LinearRegression\n",
    "\n",
    "# to check model performance\n",
    "from sklearn.metrics import mean_absolute_error, mean_squared_error, r2_score\n",
    "\n"
   ]
  },
  {
   "cell_type": "code",
   "execution_count": 2,
   "metadata": {
    "colab": {
     "base_uri": "https://localhost:8080/"
    },
    "id": "zqTR-3E-UmXf",
    "outputId": "866add1b-ab1c-49ce-e38b-a19b762d19e6"
   },
   "outputs": [
    {
     "name": "stdout",
     "output_type": "stream",
     "text": [
      "Mounted at /content/drive\n"
     ]
    }
   ],
   "source": [
    "# let colab access my google drive\n",
    "from google.colab import drive\n",
    "drive.mount('/content/drive')"
   ]
  },
  {
   "cell_type": "markdown",
   "metadata": {
    "id": "L1ASy9VcBwrZ"
   },
   "source": [
    "**Importing the dataset**"
   ]
  },
  {
   "cell_type": "code",
   "execution_count": 3,
   "metadata": {
    "id": "fs8O2toYxxIR"
   },
   "outputs": [],
   "source": [
    "data = pd.read_csv('/content/drive/MyDrive/NY-House-Dataset.csv')"
   ]
  },
  {
   "cell_type": "markdown",
   "metadata": {
    "id": "WXvm4Xh6rM7I"
   },
   "source": [
    "**Remove columns we don't need**"
   ]
  },
  {
   "cell_type": "code",
   "execution_count": 4,
   "metadata": {
    "id": "ojOJjzrdrSL5"
   },
   "outputs": [],
   "source": [
    "columns_not_needed = ['BROKERTITLE', 'ADDRESS', 'STATE', 'MAIN_ADDRESS', 'ADMINISTRATIVE_AREA_LEVEL_2', 'LOCALITY', 'STREET_NAME', 'LONG_NAME', 'FORMATTED_ADDRESS', 'LONGITUDE', 'LATITUDE']\n",
    "data = data.drop(columns=columns_not_needed)"
   ]
  },
  {
   "cell_type": "markdown",
   "metadata": {
    "id": "-xSWBd6u1K-L"
   },
   "source": [
    "**View the first and last 5 rows of the dataset**"
   ]
  },
  {
   "cell_type": "code",
   "execution_count": 5,
   "metadata": {
    "colab": {
     "base_uri": "https://localhost:8080/",
     "height": 206
    },
    "id": "_4po-gylys02",
    "outputId": "43eb95f0-5d91-4a50-d778-e693f25a235d"
   },
   "outputs": [
    {
     "data": {
      "application/vnd.google.colaboratory.intrinsic+json": {
       "summary": "{\n  \"name\": \"data\",\n  \"rows\": 4801,\n  \"fields\": [\n    {\n      \"column\": \"TYPE\",\n      \"properties\": {\n        \"dtype\": \"category\",\n        \"num_unique_values\": 13,\n        \"samples\": [\n          \"Mobile house for sale\",\n          \"Pending\",\n          \"Condo for sale\"\n        ],\n        \"semantic_type\": \"\",\n        \"description\": \"\"\n      }\n    },\n    {\n      \"column\": \"PRICE\",\n      \"properties\": {\n        \"dtype\": \"number\",\n        \"std\": 31355246,\n        \"min\": 2494,\n        \"max\": 2147483647,\n        \"num_unique_values\": 1274,\n        \"samples\": [\n          49500,\n          755000,\n          699998\n        ],\n        \"semantic_type\": \"\",\n        \"description\": \"\"\n      }\n    },\n    {\n      \"column\": \"BEDS\",\n      \"properties\": {\n        \"dtype\": \"number\",\n        \"std\": 2,\n        \"min\": 1,\n        \"max\": 50,\n        \"num_unique_values\": 27,\n        \"samples\": [\n          12,\n          14,\n          10\n        ],\n        \"semantic_type\": \"\",\n        \"description\": \"\"\n      }\n    },\n    {\n      \"column\": \"BATH\",\n      \"properties\": {\n        \"dtype\": \"number\",\n        \"std\": 1.9469616305978465,\n        \"min\": 0.0,\n        \"max\": 50.0,\n        \"num_unique_values\": 22,\n        \"samples\": [\n          2.0,\n          13.0,\n          8.0\n        ],\n        \"semantic_type\": \"\",\n        \"description\": \"\"\n      }\n    },\n    {\n      \"column\": \"PROPERTYSQFT\",\n      \"properties\": {\n        \"dtype\": \"number\",\n        \"std\": 2377.140893559752,\n        \"min\": 230.0,\n        \"max\": 65535.0,\n        \"num_unique_values\": 1445,\n        \"samples\": [\n          2472.0,\n          1445.0,\n          1868.0\n        ],\n        \"semantic_type\": \"\",\n        \"description\": \"\"\n      }\n    },\n    {\n      \"column\": \"SUBLOCALITY\",\n      \"properties\": {\n        \"dtype\": \"category\",\n        \"num_unique_values\": 21,\n        \"samples\": [\n          \"Manhattan\",\n          \"Fort Hamilton\",\n          \"Riverdale\"\n        ],\n        \"semantic_type\": \"\",\n        \"description\": \"\"\n      }\n    }\n  ]\n}",
       "type": "dataframe",
       "variable_name": "data"
      },
      "text/html": [
       "\n",
       "  <div id=\"df-0f17fc68-7c78-4497-a6ae-7950cfa0a80c\" class=\"colab-df-container\">\n",
       "    <div>\n",
       "<style scoped>\n",
       "    .dataframe tbody tr th:only-of-type {\n",
       "        vertical-align: middle;\n",
       "    }\n",
       "\n",
       "    .dataframe tbody tr th {\n",
       "        vertical-align: top;\n",
       "    }\n",
       "\n",
       "    .dataframe thead th {\n",
       "        text-align: right;\n",
       "    }\n",
       "</style>\n",
       "<table border=\"1\" class=\"dataframe\">\n",
       "  <thead>\n",
       "    <tr style=\"text-align: right;\">\n",
       "      <th></th>\n",
       "      <th>TYPE</th>\n",
       "      <th>PRICE</th>\n",
       "      <th>BEDS</th>\n",
       "      <th>BATH</th>\n",
       "      <th>PROPERTYSQFT</th>\n",
       "      <th>SUBLOCALITY</th>\n",
       "    </tr>\n",
       "  </thead>\n",
       "  <tbody>\n",
       "    <tr>\n",
       "      <th>0</th>\n",
       "      <td>Condo for sale</td>\n",
       "      <td>315000</td>\n",
       "      <td>2</td>\n",
       "      <td>2.00</td>\n",
       "      <td>1400.00</td>\n",
       "      <td>Manhattan</td>\n",
       "    </tr>\n",
       "    <tr>\n",
       "      <th>1</th>\n",
       "      <td>Condo for sale</td>\n",
       "      <td>195000000</td>\n",
       "      <td>7</td>\n",
       "      <td>10.00</td>\n",
       "      <td>17545.00</td>\n",
       "      <td>New York County</td>\n",
       "    </tr>\n",
       "    <tr>\n",
       "      <th>2</th>\n",
       "      <td>House for sale</td>\n",
       "      <td>260000</td>\n",
       "      <td>4</td>\n",
       "      <td>2.00</td>\n",
       "      <td>2015.00</td>\n",
       "      <td>Richmond County</td>\n",
       "    </tr>\n",
       "    <tr>\n",
       "      <th>3</th>\n",
       "      <td>Condo for sale</td>\n",
       "      <td>69000</td>\n",
       "      <td>3</td>\n",
       "      <td>1.00</td>\n",
       "      <td>445.00</td>\n",
       "      <td>New York County</td>\n",
       "    </tr>\n",
       "    <tr>\n",
       "      <th>4</th>\n",
       "      <td>Townhouse for sale</td>\n",
       "      <td>55000000</td>\n",
       "      <td>7</td>\n",
       "      <td>2.37</td>\n",
       "      <td>14175.00</td>\n",
       "      <td>New York County</td>\n",
       "    </tr>\n",
       "  </tbody>\n",
       "</table>\n",
       "</div>\n",
       "    <div class=\"colab-df-buttons\">\n",
       "\n",
       "  <div class=\"colab-df-container\">\n",
       "    <button class=\"colab-df-convert\" onclick=\"convertToInteractive('df-0f17fc68-7c78-4497-a6ae-7950cfa0a80c')\"\n",
       "            title=\"Convert this dataframe to an interactive table.\"\n",
       "            style=\"display:none;\">\n",
       "\n",
       "  <svg xmlns=\"http://www.w3.org/2000/svg\" height=\"24px\" viewBox=\"0 -960 960 960\">\n",
       "    <path d=\"M120-120v-720h720v720H120Zm60-500h600v-160H180v160Zm220 220h160v-160H400v160Zm0 220h160v-160H400v160ZM180-400h160v-160H180v160Zm440 0h160v-160H620v160ZM180-180h160v-160H180v160Zm440 0h160v-160H620v160Z\"/>\n",
       "  </svg>\n",
       "    </button>\n",
       "\n",
       "  <style>\n",
       "    .colab-df-container {\n",
       "      display:flex;\n",
       "      gap: 12px;\n",
       "    }\n",
       "\n",
       "    .colab-df-convert {\n",
       "      background-color: #E8F0FE;\n",
       "      border: none;\n",
       "      border-radius: 50%;\n",
       "      cursor: pointer;\n",
       "      display: none;\n",
       "      fill: #1967D2;\n",
       "      height: 32px;\n",
       "      padding: 0 0 0 0;\n",
       "      width: 32px;\n",
       "    }\n",
       "\n",
       "    .colab-df-convert:hover {\n",
       "      background-color: #E2EBFA;\n",
       "      box-shadow: 0px 1px 2px rgba(60, 64, 67, 0.3), 0px 1px 3px 1px rgba(60, 64, 67, 0.15);\n",
       "      fill: #174EA6;\n",
       "    }\n",
       "\n",
       "    .colab-df-buttons div {\n",
       "      margin-bottom: 4px;\n",
       "    }\n",
       "\n",
       "    [theme=dark] .colab-df-convert {\n",
       "      background-color: #3B4455;\n",
       "      fill: #D2E3FC;\n",
       "    }\n",
       "\n",
       "    [theme=dark] .colab-df-convert:hover {\n",
       "      background-color: #434B5C;\n",
       "      box-shadow: 0px 1px 3px 1px rgba(0, 0, 0, 0.15);\n",
       "      filter: drop-shadow(0px 1px 2px rgba(0, 0, 0, 0.3));\n",
       "      fill: #FFFFFF;\n",
       "    }\n",
       "  </style>\n",
       "\n",
       "    <script>\n",
       "      const buttonEl =\n",
       "        document.querySelector('#df-0f17fc68-7c78-4497-a6ae-7950cfa0a80c button.colab-df-convert');\n",
       "      buttonEl.style.display =\n",
       "        google.colab.kernel.accessAllowed ? 'block' : 'none';\n",
       "\n",
       "      async function convertToInteractive(key) {\n",
       "        const element = document.querySelector('#df-0f17fc68-7c78-4497-a6ae-7950cfa0a80c');\n",
       "        const dataTable =\n",
       "          await google.colab.kernel.invokeFunction('convertToInteractive',\n",
       "                                                    [key], {});\n",
       "        if (!dataTable) return;\n",
       "\n",
       "        const docLinkHtml = 'Like what you see? Visit the ' +\n",
       "          '<a target=\"_blank\" href=https://colab.research.google.com/notebooks/data_table.ipynb>data table notebook</a>'\n",
       "          + ' to learn more about interactive tables.';\n",
       "        element.innerHTML = '';\n",
       "        dataTable['output_type'] = 'display_data';\n",
       "        await google.colab.output.renderOutput(dataTable, element);\n",
       "        const docLink = document.createElement('div');\n",
       "        docLink.innerHTML = docLinkHtml;\n",
       "        element.appendChild(docLink);\n",
       "      }\n",
       "    </script>\n",
       "  </div>\n",
       "\n",
       "\n",
       "<div id=\"df-9df22ef5-18e9-4756-9917-fdcf148b9585\">\n",
       "  <button class=\"colab-df-quickchart\" onclick=\"quickchart('df-9df22ef5-18e9-4756-9917-fdcf148b9585')\"\n",
       "            title=\"Suggest charts\"\n",
       "            style=\"display:none;\">\n",
       "\n",
       "<svg xmlns=\"http://www.w3.org/2000/svg\" height=\"24px\"viewBox=\"0 0 24 24\"\n",
       "     width=\"24px\">\n",
       "    <g>\n",
       "        <path d=\"M19 3H5c-1.1 0-2 .9-2 2v14c0 1.1.9 2 2 2h14c1.1 0 2-.9 2-2V5c0-1.1-.9-2-2-2zM9 17H7v-7h2v7zm4 0h-2V7h2v10zm4 0h-2v-4h2v4z\"/>\n",
       "    </g>\n",
       "</svg>\n",
       "  </button>\n",
       "\n",
       "<style>\n",
       "  .colab-df-quickchart {\n",
       "      --bg-color: #E8F0FE;\n",
       "      --fill-color: #1967D2;\n",
       "      --hover-bg-color: #E2EBFA;\n",
       "      --hover-fill-color: #174EA6;\n",
       "      --disabled-fill-color: #AAA;\n",
       "      --disabled-bg-color: #DDD;\n",
       "  }\n",
       "\n",
       "  [theme=dark] .colab-df-quickchart {\n",
       "      --bg-color: #3B4455;\n",
       "      --fill-color: #D2E3FC;\n",
       "      --hover-bg-color: #434B5C;\n",
       "      --hover-fill-color: #FFFFFF;\n",
       "      --disabled-bg-color: #3B4455;\n",
       "      --disabled-fill-color: #666;\n",
       "  }\n",
       "\n",
       "  .colab-df-quickchart {\n",
       "    background-color: var(--bg-color);\n",
       "    border: none;\n",
       "    border-radius: 50%;\n",
       "    cursor: pointer;\n",
       "    display: none;\n",
       "    fill: var(--fill-color);\n",
       "    height: 32px;\n",
       "    padding: 0;\n",
       "    width: 32px;\n",
       "  }\n",
       "\n",
       "  .colab-df-quickchart:hover {\n",
       "    background-color: var(--hover-bg-color);\n",
       "    box-shadow: 0 1px 2px rgba(60, 64, 67, 0.3), 0 1px 3px 1px rgba(60, 64, 67, 0.15);\n",
       "    fill: var(--button-hover-fill-color);\n",
       "  }\n",
       "\n",
       "  .colab-df-quickchart-complete:disabled,\n",
       "  .colab-df-quickchart-complete:disabled:hover {\n",
       "    background-color: var(--disabled-bg-color);\n",
       "    fill: var(--disabled-fill-color);\n",
       "    box-shadow: none;\n",
       "  }\n",
       "\n",
       "  .colab-df-spinner {\n",
       "    border: 2px solid var(--fill-color);\n",
       "    border-color: transparent;\n",
       "    border-bottom-color: var(--fill-color);\n",
       "    animation:\n",
       "      spin 1s steps(1) infinite;\n",
       "  }\n",
       "\n",
       "  @keyframes spin {\n",
       "    0% {\n",
       "      border-color: transparent;\n",
       "      border-bottom-color: var(--fill-color);\n",
       "      border-left-color: var(--fill-color);\n",
       "    }\n",
       "    20% {\n",
       "      border-color: transparent;\n",
       "      border-left-color: var(--fill-color);\n",
       "      border-top-color: var(--fill-color);\n",
       "    }\n",
       "    30% {\n",
       "      border-color: transparent;\n",
       "      border-left-color: var(--fill-color);\n",
       "      border-top-color: var(--fill-color);\n",
       "      border-right-color: var(--fill-color);\n",
       "    }\n",
       "    40% {\n",
       "      border-color: transparent;\n",
       "      border-right-color: var(--fill-color);\n",
       "      border-top-color: var(--fill-color);\n",
       "    }\n",
       "    60% {\n",
       "      border-color: transparent;\n",
       "      border-right-color: var(--fill-color);\n",
       "    }\n",
       "    80% {\n",
       "      border-color: transparent;\n",
       "      border-right-color: var(--fill-color);\n",
       "      border-bottom-color: var(--fill-color);\n",
       "    }\n",
       "    90% {\n",
       "      border-color: transparent;\n",
       "      border-bottom-color: var(--fill-color);\n",
       "    }\n",
       "  }\n",
       "</style>\n",
       "\n",
       "  <script>\n",
       "    async function quickchart(key) {\n",
       "      const quickchartButtonEl =\n",
       "        document.querySelector('#' + key + ' button');\n",
       "      quickchartButtonEl.disabled = true;  // To prevent multiple clicks.\n",
       "      quickchartButtonEl.classList.add('colab-df-spinner');\n",
       "      try {\n",
       "        const charts = await google.colab.kernel.invokeFunction(\n",
       "            'suggestCharts', [key], {});\n",
       "      } catch (error) {\n",
       "        console.error('Error during call to suggestCharts:', error);\n",
       "      }\n",
       "      quickchartButtonEl.classList.remove('colab-df-spinner');\n",
       "      quickchartButtonEl.classList.add('colab-df-quickchart-complete');\n",
       "    }\n",
       "    (() => {\n",
       "      let quickchartButtonEl =\n",
       "        document.querySelector('#df-9df22ef5-18e9-4756-9917-fdcf148b9585 button');\n",
       "      quickchartButtonEl.style.display =\n",
       "        google.colab.kernel.accessAllowed ? 'block' : 'none';\n",
       "    })();\n",
       "  </script>\n",
       "</div>\n",
       "\n",
       "    </div>\n",
       "  </div>\n"
      ],
      "text/plain": [
       "                 TYPE      PRICE  BEDS  BATH  PROPERTYSQFT      SUBLOCALITY\n",
       "0      Condo for sale     315000     2  2.00       1400.00        Manhattan\n",
       "1      Condo for sale  195000000     7 10.00      17545.00  New York County\n",
       "2      House for sale     260000     4  2.00       2015.00  Richmond County\n",
       "3      Condo for sale      69000     3  1.00        445.00  New York County\n",
       "4  Townhouse for sale   55000000     7  2.37      14175.00  New York County"
      ]
     },
     "execution_count": 5,
     "metadata": {},
     "output_type": "execute_result"
    }
   ],
   "source": [
    "data.head()"
   ]
  },
  {
   "cell_type": "code",
   "execution_count": 6,
   "metadata": {
    "colab": {
     "base_uri": "https://localhost:8080/",
     "height": 206
    },
    "id": "FQWNLBf3zNjF",
    "outputId": "f1ab55f9-1e99-4a6a-d37f-814457250819"
   },
   "outputs": [
    {
     "data": {
      "application/vnd.google.colaboratory.intrinsic+json": {
       "summary": "{\n  \"name\": \"data\",\n  \"rows\": 5,\n  \"fields\": [\n    {\n      \"column\": \"TYPE\",\n      \"properties\": {\n        \"dtype\": \"category\",\n        \"num_unique_values\": 2,\n        \"samples\": [\n          \"Condo for sale\",\n          \"Co-op for sale\"\n        ],\n        \"semantic_type\": \"\",\n        \"description\": \"\"\n      }\n    },\n    {\n      \"column\": \"PRICE\",\n      \"properties\": {\n        \"dtype\": \"number\",\n        \"std\": 401179,\n        \"min\": 245000,\n        \"max\": 1275000,\n        \"num_unique_values\": 5,\n        \"samples\": [\n          245000,\n          349000\n        ],\n        \"semantic_type\": \"\",\n        \"description\": \"\"\n      }\n    },\n    {\n      \"column\": \"BEDS\",\n      \"properties\": {\n        \"dtype\": \"number\",\n        \"std\": 0,\n        \"min\": 1,\n        \"max\": 2,\n        \"num_unique_values\": 2,\n        \"samples\": [\n          2,\n          1\n        ],\n        \"semantic_type\": \"\",\n        \"description\": \"\"\n      }\n    },\n    {\n      \"column\": \"BATH\",\n      \"properties\": {\n        \"dtype\": \"number\",\n        \"std\": 0.0,\n        \"min\": 1.0,\n        \"max\": 1.0,\n        \"num_unique_values\": 1,\n        \"samples\": [\n          1.0\n        ],\n        \"semantic_type\": \"\",\n        \"description\": \"\"\n      }\n    },\n    {\n      \"column\": \"PROPERTYSQFT\",\n      \"properties\": {\n        \"dtype\": \"number\",\n        \"std\": 812.2595530332552,\n        \"min\": 655.0,\n        \"max\": 2184.207862,\n        \"num_unique_values\": 3,\n        \"samples\": [\n          2184.207862\n        ],\n        \"semantic_type\": \"\",\n        \"description\": \"\"\n      }\n    },\n    {\n      \"column\": \"SUBLOCALITY\",\n      \"properties\": {\n        \"dtype\": \"string\",\n        \"num_unique_values\": 5,\n        \"samples\": [\n          \"Queens County\"\n        ],\n        \"semantic_type\": \"\",\n        \"description\": \"\"\n      }\n    }\n  ]\n}",
       "type": "dataframe"
      },
      "text/html": [
       "\n",
       "  <div id=\"df-25c8c295-261d-46ed-9f35-57870ccb315e\" class=\"colab-df-container\">\n",
       "    <div>\n",
       "<style scoped>\n",
       "    .dataframe tbody tr th:only-of-type {\n",
       "        vertical-align: middle;\n",
       "    }\n",
       "\n",
       "    .dataframe tbody tr th {\n",
       "        vertical-align: top;\n",
       "    }\n",
       "\n",
       "    .dataframe thead th {\n",
       "        text-align: right;\n",
       "    }\n",
       "</style>\n",
       "<table border=\"1\" class=\"dataframe\">\n",
       "  <thead>\n",
       "    <tr style=\"text-align: right;\">\n",
       "      <th></th>\n",
       "      <th>TYPE</th>\n",
       "      <th>PRICE</th>\n",
       "      <th>BEDS</th>\n",
       "      <th>BATH</th>\n",
       "      <th>PROPERTYSQFT</th>\n",
       "      <th>SUBLOCALITY</th>\n",
       "    </tr>\n",
       "  </thead>\n",
       "  <tbody>\n",
       "    <tr>\n",
       "      <th>4796</th>\n",
       "      <td>Co-op for sale</td>\n",
       "      <td>599000</td>\n",
       "      <td>1</td>\n",
       "      <td>1.00</td>\n",
       "      <td>2184.21</td>\n",
       "      <td>New York</td>\n",
       "    </tr>\n",
       "    <tr>\n",
       "      <th>4797</th>\n",
       "      <td>Co-op for sale</td>\n",
       "      <td>245000</td>\n",
       "      <td>1</td>\n",
       "      <td>1.00</td>\n",
       "      <td>2184.21</td>\n",
       "      <td>Queens County</td>\n",
       "    </tr>\n",
       "    <tr>\n",
       "      <th>4798</th>\n",
       "      <td>Co-op for sale</td>\n",
       "      <td>1275000</td>\n",
       "      <td>1</td>\n",
       "      <td>1.00</td>\n",
       "      <td>2184.21</td>\n",
       "      <td>New York County</td>\n",
       "    </tr>\n",
       "    <tr>\n",
       "      <th>4799</th>\n",
       "      <td>Condo for sale</td>\n",
       "      <td>598125</td>\n",
       "      <td>2</td>\n",
       "      <td>1.00</td>\n",
       "      <td>655.00</td>\n",
       "      <td>Queens</td>\n",
       "    </tr>\n",
       "    <tr>\n",
       "      <th>4800</th>\n",
       "      <td>Co-op for sale</td>\n",
       "      <td>349000</td>\n",
       "      <td>1</td>\n",
       "      <td>1.00</td>\n",
       "      <td>750.00</td>\n",
       "      <td>Brooklyn</td>\n",
       "    </tr>\n",
       "  </tbody>\n",
       "</table>\n",
       "</div>\n",
       "    <div class=\"colab-df-buttons\">\n",
       "\n",
       "  <div class=\"colab-df-container\">\n",
       "    <button class=\"colab-df-convert\" onclick=\"convertToInteractive('df-25c8c295-261d-46ed-9f35-57870ccb315e')\"\n",
       "            title=\"Convert this dataframe to an interactive table.\"\n",
       "            style=\"display:none;\">\n",
       "\n",
       "  <svg xmlns=\"http://www.w3.org/2000/svg\" height=\"24px\" viewBox=\"0 -960 960 960\">\n",
       "    <path d=\"M120-120v-720h720v720H120Zm60-500h600v-160H180v160Zm220 220h160v-160H400v160Zm0 220h160v-160H400v160ZM180-400h160v-160H180v160Zm440 0h160v-160H620v160ZM180-180h160v-160H180v160Zm440 0h160v-160H620v160Z\"/>\n",
       "  </svg>\n",
       "    </button>\n",
       "\n",
       "  <style>\n",
       "    .colab-df-container {\n",
       "      display:flex;\n",
       "      gap: 12px;\n",
       "    }\n",
       "\n",
       "    .colab-df-convert {\n",
       "      background-color: #E8F0FE;\n",
       "      border: none;\n",
       "      border-radius: 50%;\n",
       "      cursor: pointer;\n",
       "      display: none;\n",
       "      fill: #1967D2;\n",
       "      height: 32px;\n",
       "      padding: 0 0 0 0;\n",
       "      width: 32px;\n",
       "    }\n",
       "\n",
       "    .colab-df-convert:hover {\n",
       "      background-color: #E2EBFA;\n",
       "      box-shadow: 0px 1px 2px rgba(60, 64, 67, 0.3), 0px 1px 3px 1px rgba(60, 64, 67, 0.15);\n",
       "      fill: #174EA6;\n",
       "    }\n",
       "\n",
       "    .colab-df-buttons div {\n",
       "      margin-bottom: 4px;\n",
       "    }\n",
       "\n",
       "    [theme=dark] .colab-df-convert {\n",
       "      background-color: #3B4455;\n",
       "      fill: #D2E3FC;\n",
       "    }\n",
       "\n",
       "    [theme=dark] .colab-df-convert:hover {\n",
       "      background-color: #434B5C;\n",
       "      box-shadow: 0px 1px 3px 1px rgba(0, 0, 0, 0.15);\n",
       "      filter: drop-shadow(0px 1px 2px rgba(0, 0, 0, 0.3));\n",
       "      fill: #FFFFFF;\n",
       "    }\n",
       "  </style>\n",
       "\n",
       "    <script>\n",
       "      const buttonEl =\n",
       "        document.querySelector('#df-25c8c295-261d-46ed-9f35-57870ccb315e button.colab-df-convert');\n",
       "      buttonEl.style.display =\n",
       "        google.colab.kernel.accessAllowed ? 'block' : 'none';\n",
       "\n",
       "      async function convertToInteractive(key) {\n",
       "        const element = document.querySelector('#df-25c8c295-261d-46ed-9f35-57870ccb315e');\n",
       "        const dataTable =\n",
       "          await google.colab.kernel.invokeFunction('convertToInteractive',\n",
       "                                                    [key], {});\n",
       "        if (!dataTable) return;\n",
       "\n",
       "        const docLinkHtml = 'Like what you see? Visit the ' +\n",
       "          '<a target=\"_blank\" href=https://colab.research.google.com/notebooks/data_table.ipynb>data table notebook</a>'\n",
       "          + ' to learn more about interactive tables.';\n",
       "        element.innerHTML = '';\n",
       "        dataTable['output_type'] = 'display_data';\n",
       "        await google.colab.output.renderOutput(dataTable, element);\n",
       "        const docLink = document.createElement('div');\n",
       "        docLink.innerHTML = docLinkHtml;\n",
       "        element.appendChild(docLink);\n",
       "      }\n",
       "    </script>\n",
       "  </div>\n",
       "\n",
       "\n",
       "<div id=\"df-fffebaf7-bcbf-4340-9a31-5e1255d1ef27\">\n",
       "  <button class=\"colab-df-quickchart\" onclick=\"quickchart('df-fffebaf7-bcbf-4340-9a31-5e1255d1ef27')\"\n",
       "            title=\"Suggest charts\"\n",
       "            style=\"display:none;\">\n",
       "\n",
       "<svg xmlns=\"http://www.w3.org/2000/svg\" height=\"24px\"viewBox=\"0 0 24 24\"\n",
       "     width=\"24px\">\n",
       "    <g>\n",
       "        <path d=\"M19 3H5c-1.1 0-2 .9-2 2v14c0 1.1.9 2 2 2h14c1.1 0 2-.9 2-2V5c0-1.1-.9-2-2-2zM9 17H7v-7h2v7zm4 0h-2V7h2v10zm4 0h-2v-4h2v4z\"/>\n",
       "    </g>\n",
       "</svg>\n",
       "  </button>\n",
       "\n",
       "<style>\n",
       "  .colab-df-quickchart {\n",
       "      --bg-color: #E8F0FE;\n",
       "      --fill-color: #1967D2;\n",
       "      --hover-bg-color: #E2EBFA;\n",
       "      --hover-fill-color: #174EA6;\n",
       "      --disabled-fill-color: #AAA;\n",
       "      --disabled-bg-color: #DDD;\n",
       "  }\n",
       "\n",
       "  [theme=dark] .colab-df-quickchart {\n",
       "      --bg-color: #3B4455;\n",
       "      --fill-color: #D2E3FC;\n",
       "      --hover-bg-color: #434B5C;\n",
       "      --hover-fill-color: #FFFFFF;\n",
       "      --disabled-bg-color: #3B4455;\n",
       "      --disabled-fill-color: #666;\n",
       "  }\n",
       "\n",
       "  .colab-df-quickchart {\n",
       "    background-color: var(--bg-color);\n",
       "    border: none;\n",
       "    border-radius: 50%;\n",
       "    cursor: pointer;\n",
       "    display: none;\n",
       "    fill: var(--fill-color);\n",
       "    height: 32px;\n",
       "    padding: 0;\n",
       "    width: 32px;\n",
       "  }\n",
       "\n",
       "  .colab-df-quickchart:hover {\n",
       "    background-color: var(--hover-bg-color);\n",
       "    box-shadow: 0 1px 2px rgba(60, 64, 67, 0.3), 0 1px 3px 1px rgba(60, 64, 67, 0.15);\n",
       "    fill: var(--button-hover-fill-color);\n",
       "  }\n",
       "\n",
       "  .colab-df-quickchart-complete:disabled,\n",
       "  .colab-df-quickchart-complete:disabled:hover {\n",
       "    background-color: var(--disabled-bg-color);\n",
       "    fill: var(--disabled-fill-color);\n",
       "    box-shadow: none;\n",
       "  }\n",
       "\n",
       "  .colab-df-spinner {\n",
       "    border: 2px solid var(--fill-color);\n",
       "    border-color: transparent;\n",
       "    border-bottom-color: var(--fill-color);\n",
       "    animation:\n",
       "      spin 1s steps(1) infinite;\n",
       "  }\n",
       "\n",
       "  @keyframes spin {\n",
       "    0% {\n",
       "      border-color: transparent;\n",
       "      border-bottom-color: var(--fill-color);\n",
       "      border-left-color: var(--fill-color);\n",
       "    }\n",
       "    20% {\n",
       "      border-color: transparent;\n",
       "      border-left-color: var(--fill-color);\n",
       "      border-top-color: var(--fill-color);\n",
       "    }\n",
       "    30% {\n",
       "      border-color: transparent;\n",
       "      border-left-color: var(--fill-color);\n",
       "      border-top-color: var(--fill-color);\n",
       "      border-right-color: var(--fill-color);\n",
       "    }\n",
       "    40% {\n",
       "      border-color: transparent;\n",
       "      border-right-color: var(--fill-color);\n",
       "      border-top-color: var(--fill-color);\n",
       "    }\n",
       "    60% {\n",
       "      border-color: transparent;\n",
       "      border-right-color: var(--fill-color);\n",
       "    }\n",
       "    80% {\n",
       "      border-color: transparent;\n",
       "      border-right-color: var(--fill-color);\n",
       "      border-bottom-color: var(--fill-color);\n",
       "    }\n",
       "    90% {\n",
       "      border-color: transparent;\n",
       "      border-bottom-color: var(--fill-color);\n",
       "    }\n",
       "  }\n",
       "</style>\n",
       "\n",
       "  <script>\n",
       "    async function quickchart(key) {\n",
       "      const quickchartButtonEl =\n",
       "        document.querySelector('#' + key + ' button');\n",
       "      quickchartButtonEl.disabled = true;  // To prevent multiple clicks.\n",
       "      quickchartButtonEl.classList.add('colab-df-spinner');\n",
       "      try {\n",
       "        const charts = await google.colab.kernel.invokeFunction(\n",
       "            'suggestCharts', [key], {});\n",
       "      } catch (error) {\n",
       "        console.error('Error during call to suggestCharts:', error);\n",
       "      }\n",
       "      quickchartButtonEl.classList.remove('colab-df-spinner');\n",
       "      quickchartButtonEl.classList.add('colab-df-quickchart-complete');\n",
       "    }\n",
       "    (() => {\n",
       "      let quickchartButtonEl =\n",
       "        document.querySelector('#df-fffebaf7-bcbf-4340-9a31-5e1255d1ef27 button');\n",
       "      quickchartButtonEl.style.display =\n",
       "        google.colab.kernel.accessAllowed ? 'block' : 'none';\n",
       "    })();\n",
       "  </script>\n",
       "</div>\n",
       "\n",
       "    </div>\n",
       "  </div>\n"
      ],
      "text/plain": [
       "                TYPE    PRICE  BEDS  BATH  PROPERTYSQFT      SUBLOCALITY\n",
       "4796  Co-op for sale   599000     1  1.00       2184.21         New York\n",
       "4797  Co-op for sale   245000     1  1.00       2184.21    Queens County\n",
       "4798  Co-op for sale  1275000     1  1.00       2184.21  New York County\n",
       "4799  Condo for sale   598125     2  1.00        655.00           Queens\n",
       "4800  Co-op for sale   349000     1  1.00        750.00         Brooklyn"
      ]
     },
     "execution_count": 6,
     "metadata": {},
     "output_type": "execute_result"
    }
   ],
   "source": [
    "data.tail()"
   ]
  },
  {
   "cell_type": "markdown",
   "metadata": {
    "id": "AOS7YXrM1TrI"
   },
   "source": [
    "**Understand the shape of the dataset**"
   ]
  },
  {
   "cell_type": "code",
   "execution_count": 7,
   "metadata": {
    "colab": {
     "base_uri": "https://localhost:8080/"
    },
    "id": "pBvks_PB0mj8",
    "outputId": "2adf3994-31e6-4a76-f230-b5f4bbf73fd8"
   },
   "outputs": [
    {
     "name": "stdout",
     "output_type": "stream",
     "text": [
      "There are 4801 rows and 6 columns.\n"
     ]
    }
   ],
   "source": [
    "# checking shape of the data\n",
    "print(\"There are\", data.shape[0], 'rows and', data.shape[1], \"columns.\")"
   ]
  },
  {
   "cell_type": "markdown",
   "metadata": {
    "id": "0LLSwZBf1YUM"
   },
   "source": [
    "**Check the data types of the columns for the dataset**"
   ]
  },
  {
   "cell_type": "code",
   "execution_count": 8,
   "metadata": {
    "colab": {
     "base_uri": "https://localhost:8080/"
    },
    "id": "6TojyJDezOJ-",
    "outputId": "f915a5c9-334e-4385-f089-2a1a2f3d4f93"
   },
   "outputs": [
    {
     "name": "stdout",
     "output_type": "stream",
     "text": [
      "<class 'pandas.core.frame.DataFrame'>\n",
      "RangeIndex: 4801 entries, 0 to 4800\n",
      "Data columns (total 6 columns):\n",
      " #   Column        Non-Null Count  Dtype  \n",
      "---  ------        --------------  -----  \n",
      " 0   TYPE          4801 non-null   object \n",
      " 1   PRICE         4801 non-null   int64  \n",
      " 2   BEDS          4801 non-null   int64  \n",
      " 3   BATH          4801 non-null   float64\n",
      " 4   PROPERTYSQFT  4801 non-null   float64\n",
      " 5   SUBLOCALITY   4801 non-null   object \n",
      "dtypes: float64(2), int64(2), object(2)\n",
      "memory usage: 225.2+ KB\n"
     ]
    }
   ],
   "source": [
    "data.info()"
   ]
  },
  {
   "cell_type": "markdown",
   "metadata": {
    "id": "8w5qKrVn7XHX"
   },
   "source": [
    "* There are 6 numerical columns in the data and 2 object type columns.\n",
    "* Baths column is likely a float because of 1/2 or 3/4 type baths.  May need to transform that field.\n"
   ]
  },
  {
   "cell_type": "code",
   "execution_count": 9,
   "metadata": {
    "colab": {
     "base_uri": "https://localhost:8080/"
    },
    "id": "dyawvn_49av6",
    "outputId": "e415e975-eca0-427b-d7f7-8bbe75571695"
   },
   "outputs": [
    {
     "data": {
      "text/plain": [
       "array(['Condo for sale', 'House for sale', 'Townhouse for sale',\n",
       "       'Co-op for sale', 'Multi-family home for sale', 'For sale',\n",
       "       'Contingent', 'Land for sale', 'Foreclosure', 'Pending',\n",
       "       'Coming Soon', 'Mobile house for sale', 'Condop for sale'],\n",
       "      dtype=object)"
      ]
     },
     "execution_count": 9,
     "metadata": {},
     "output_type": "execute_result"
    }
   ],
   "source": [
    "# let's get the unique values for the type field\n",
    "data['TYPE'].unique()"
   ]
  },
  {
   "cell_type": "code",
   "execution_count": 10,
   "metadata": {
    "colab": {
     "base_uri": "https://localhost:8080/"
    },
    "id": "hHC1wuw2NbQa",
    "outputId": "86d42dc4-3516-42f3-8b31-d024ea750c98"
   },
   "outputs": [
    {
     "data": {
      "text/plain": [
       "0"
      ]
     },
     "execution_count": 10,
     "metadata": {},
     "output_type": "execute_result"
    }
   ],
   "source": [
    "#Check for any missing values in the type field\n",
    "data['TYPE'].isnull().sum()"
   ]
  },
  {
   "cell_type": "markdown",
   "metadata": {
    "id": "MVaXosBnBwrf"
   },
   "source": [
    "* Let's find the count of each type in the that field"
   ]
  },
  {
   "cell_type": "code",
   "execution_count": 11,
   "metadata": {
    "colab": {
     "base_uri": "https://localhost:8080/"
    },
    "id": "RmNPNRdeBwrf",
    "outputId": "05d3e54e-36fc-421e-aea2-19b6e40ac2a6"
   },
   "outputs": [
    {
     "data": {
      "text/plain": [
       "TYPE\n",
       "Co-op for sale                1450\n",
       "House for sale                1012\n",
       "Condo for sale                 891\n",
       "Multi-family home for sale     727\n",
       "Townhouse for sale             299\n",
       "Pending                        243\n",
       "Contingent                      88\n",
       "Land for sale                   49\n",
       "For sale                        20\n",
       "Foreclosure                     14\n",
       "Condop for sale                  5\n",
       "Coming Soon                      2\n",
       "Mobile house for sale            1\n",
       "Name: count, dtype: int64"
      ]
     },
     "execution_count": 11,
     "metadata": {},
     "output_type": "execute_result"
    }
   ],
   "source": [
    "# checking the count of different data types in BuildingArea column\n",
    "data['TYPE'].value_counts()"
   ]
  },
  {
   "cell_type": "markdown",
   "metadata": {
    "id": "LVkxBaUT92TP"
   },
   "source": [
    "* We can see that there are likely some spelling and miscategorization of values.  We may want to clean this up.\n",
    "* Let's fix types and set status TYPE values to NA\n"
   ]
  },
  {
   "cell_type": "code",
   "execution_count": 13,
   "metadata": {
    "id": "e5T0WOaq-FZp"
   },
   "outputs": [],
   "source": [
    "# fixing incorrect categories\n",
    "data['TYPE'] = data['TYPE'].replace(['Condo for sale'],'Condo')\n",
    "data['TYPE'] = data['TYPE'].replace(['Condop for sale'],'Condo')\n",
    "data['TYPE'] = data['TYPE'].replace(['Co-op for sale'],'Coop')\n",
    "data['TYPE'] = data['TYPE'].replace(['Multi-family home for sale'],'Multi-family')\n",
    "data['TYPE'] = data['TYPE'].replace(['Townhouse for sale'],'Townhouse')\n",
    "data['TYPE'] = data['TYPE'].replace(['Mobile house for sale'],'Mobile')\n",
    "data['TYPE'] = data['TYPE'].replace(['Land for sale'],'Land')\n",
    "data['TYPE'] = data['TYPE'].replace(['House for sale'],'House')\n",
    "\n",
    "\n",
    "# replacing status values with na\n",
    "data['TYPE'] = data['TYPE'].replace(['Pending','Contingent', 'For sale', 'Foreclosure', 'Coming Soon'], 'NA')"
   ]
  },
  {
   "cell_type": "code",
   "execution_count": 14,
   "metadata": {
    "colab": {
     "base_uri": "https://localhost:8080/"
    },
    "id": "VjgpHCeo_Da-",
    "outputId": "a3a03747-9918-4e35-a31e-ed275f83068c"
   },
   "outputs": [
    {
     "data": {
      "text/plain": [
       "TYPE\n",
       "Coop            1450\n",
       "House           1012\n",
       "Condo            896\n",
       "Multi-family     727\n",
       "NA               367\n",
       "Townhouse        299\n",
       "Land              49\n",
       "Mobile             1\n",
       "Name: count, dtype: int64"
      ]
     },
     "execution_count": 14,
     "metadata": {},
     "output_type": "execute_result"
    }
   ],
   "source": [
    "# let's check the TYPE column again\n",
    "data['TYPE'].value_counts()"
   ]
  },
  {
   "cell_type": "code",
   "execution_count": 15,
   "metadata": {
    "id": "HFvfkxDb3U_u"
   },
   "outputs": [],
   "source": [
    "#Remove the rows with NA and Mobile\n",
    "data = data[data[\"TYPE\"] != 'NA']\n",
    "data = data[data[\"TYPE\"] != 'Mobile']"
   ]
  },
  {
   "cell_type": "markdown",
   "metadata": {
    "id": "bJe1HIx9Acps"
   },
   "source": [
    "**What are missing values?**\n",
    "\n",
    "Missing values occur when no data value is stored for the variable in an observation. Missing data are a common occurrence and can have a significant effect on the conclusions that can be drawn from the data."
   ]
  },
  {
   "cell_type": "markdown",
   "metadata": {
    "id": "qjJEjUpU1l6E"
   },
   "source": [
    "**Checking for missing values in the data**"
   ]
  },
  {
   "cell_type": "code",
   "execution_count": 16,
   "metadata": {
    "colab": {
     "base_uri": "https://localhost:8080/"
    },
    "id": "p6TCTCDAzUmR",
    "outputId": "b6536718-b502-4618-e74c-d7aeb44b1f76"
   },
   "outputs": [
    {
     "data": {
      "text/plain": [
       "TYPE            0\n",
       "PRICE           0\n",
       "BEDS            0\n",
       "BATH            0\n",
       "PROPERTYSQFT    0\n",
       "SUBLOCALITY     0\n",
       "dtype: int64"
      ]
     },
     "execution_count": 16,
     "metadata": {},
     "output_type": "execute_result"
    }
   ],
   "source": [
    "data.isnull().sum()"
   ]
  },
  {
   "cell_type": "markdown",
   "metadata": {
    "id": "cjZbUhBj_XxX"
   },
   "source": [
    "* There are no missing values in the columns of the data.\n"
   ]
  },
  {
   "cell_type": "markdown",
   "metadata": {
    "id": "MtKKvX_j1d2N"
   },
   "source": [
    "**Checking for duplicate entries in the data**"
   ]
  },
  {
   "cell_type": "code",
   "execution_count": 17,
   "metadata": {
    "colab": {
     "base_uri": "https://localhost:8080/"
    },
    "id": "fO9oCJoazRM9",
    "outputId": "d66aa5e5-06f5-4e13-9abe-f56e4a98cf43"
   },
   "outputs": [
    {
     "data": {
      "text/plain": [
       "347"
      ]
     },
     "execution_count": 17,
     "metadata": {},
     "output_type": "execute_result"
    }
   ],
   "source": [
    "data.duplicated().sum()"
   ]
  },
  {
   "cell_type": "markdown",
   "metadata": {
    "id": "pXWitpm97Xn_"
   },
   "source": [
    "* There are duplicate entries in the data. Let's remove them."
   ]
  },
  {
   "cell_type": "code",
   "execution_count": 18,
   "metadata": {
    "id": "IRBahRHNJVgl"
   },
   "outputs": [],
   "source": [
    "# dropping duplicate entries from the data\n",
    "data.drop_duplicates(inplace=True)\n",
    "\n",
    "# resetting the index of data frame since some rows will be removed\n",
    "data.reset_index(drop=True,inplace=True)"
   ]
  },
  {
   "cell_type": "markdown",
   "metadata": {
    "id": "KEQH5qqXzWmo"
   },
   "source": [
    "**Let's check the statistical summary of the data.**"
   ]
  },
  {
   "cell_type": "code",
   "execution_count": 19,
   "metadata": {
    "colab": {
     "base_uri": "https://localhost:8080/",
     "height": 175
    },
    "id": "cCqbJH8T1tJJ",
    "outputId": "2a1ed907-0200-4556-bed8-b04d88a37825"
   },
   "outputs": [
    {
     "data": {
      "application/vnd.google.colaboratory.intrinsic+json": {
       "summary": "{\n  \"name\": \"data\",\n  \"rows\": 4,\n  \"fields\": [\n    {\n      \"column\": \"count\",\n      \"properties\": {\n        \"dtype\": \"number\",\n        \"std\": 0.0,\n        \"min\": 4086.0,\n        \"max\": 4086.0,\n        \"num_unique_values\": 1,\n        \"samples\": [\n          4086.0\n        ],\n        \"semantic_type\": \"\",\n        \"description\": \"\"\n      }\n    },\n    {\n      \"column\": \"mean\",\n      \"properties\": {\n        \"dtype\": \"number\",\n        \"std\": 1267507.826151382,\n        \"min\": 2.421397445475728,\n        \"max\": 2535747.31938326,\n        \"num_unique_values\": 4,\n        \"samples\": [\n          3.4211943220753795\n        ],\n        \"semantic_type\": \"\",\n        \"description\": \"\"\n      }\n    },\n    {\n      \"column\": \"std\",\n      \"properties\": {\n        \"dtype\": \"number\",\n        \"std\": 16982937.347094633,\n        \"min\": 2.032756609465166,\n        \"max\": 33966671.67065464,\n        \"num_unique_values\": 4,\n        \"samples\": [\n          2.713045891652057\n        ],\n        \"semantic_type\": \"\",\n        \"description\": \"\"\n      }\n    },\n    {\n      \"column\": \"min\",\n      \"properties\": {\n        \"dtype\": \"number\",\n        \"std\": 2860.5856480797775,\n        \"min\": 0.0,\n        \"max\": 5800.0,\n        \"num_unique_values\": 4,\n        \"samples\": [\n          1.0\n        ],\n        \"semantic_type\": \"\",\n        \"description\": \"\"\n      }\n    },\n    {\n      \"column\": \"25%\",\n      \"properties\": {\n        \"dtype\": \"number\",\n        \"std\": 249804.81435090603,\n        \"min\": 1.0,\n        \"max\": 499999.0,\n        \"num_unique_values\": 4,\n        \"samples\": [\n          2.0\n        ],\n        \"semantic_type\": \"\",\n        \"description\": \"\"\n      }\n    },\n    {\n      \"column\": \"50%\",\n      \"properties\": {\n        \"dtype\": \"number\",\n        \"std\": 424136.37896388926,\n        \"min\": 2.0,\n        \"max\": 849000.0,\n        \"num_unique_values\": 4,\n        \"samples\": [\n          3.0\n        ],\n        \"semantic_type\": \"\",\n        \"description\": \"\"\n      }\n    },\n    {\n      \"column\": \"75%\",\n      \"properties\": {\n        \"dtype\": \"number\",\n        \"std\": 785260.4715717852,\n        \"min\": 3.0,\n        \"max\": 1571250.0,\n        \"num_unique_values\": 4,\n        \"samples\": [\n          4.0\n        ],\n        \"semantic_type\": \"\",\n        \"description\": \"\"\n      }\n    },\n    {\n      \"column\": \"max\",\n      \"properties\": {\n        \"dtype\": \"number\",\n        \"std\": 1073730884.7770908,\n        \"min\": 50.0,\n        \"max\": 2147483647.0,\n        \"num_unique_values\": 3,\n        \"samples\": [\n          2147483647.0\n        ],\n        \"semantic_type\": \"\",\n        \"description\": \"\"\n      }\n    }\n  ]\n}",
       "type": "dataframe"
      },
      "text/html": [
       "\n",
       "  <div id=\"df-43458e35-614b-4f65-a9d2-fe01b1425e1e\" class=\"colab-df-container\">\n",
       "    <div>\n",
       "<style scoped>\n",
       "    .dataframe tbody tr th:only-of-type {\n",
       "        vertical-align: middle;\n",
       "    }\n",
       "\n",
       "    .dataframe tbody tr th {\n",
       "        vertical-align: top;\n",
       "    }\n",
       "\n",
       "    .dataframe thead th {\n",
       "        text-align: right;\n",
       "    }\n",
       "</style>\n",
       "<table border=\"1\" class=\"dataframe\">\n",
       "  <thead>\n",
       "    <tr style=\"text-align: right;\">\n",
       "      <th></th>\n",
       "      <th>count</th>\n",
       "      <th>mean</th>\n",
       "      <th>std</th>\n",
       "      <th>min</th>\n",
       "      <th>25%</th>\n",
       "      <th>50%</th>\n",
       "      <th>75%</th>\n",
       "      <th>max</th>\n",
       "    </tr>\n",
       "  </thead>\n",
       "  <tbody>\n",
       "    <tr>\n",
       "      <th>PRICE</th>\n",
       "      <td>4086.00</td>\n",
       "      <td>2535747.32</td>\n",
       "      <td>33966671.67</td>\n",
       "      <td>5800.00</td>\n",
       "      <td>499999.00</td>\n",
       "      <td>849000.00</td>\n",
       "      <td>1571250.00</td>\n",
       "      <td>2147483647.00</td>\n",
       "    </tr>\n",
       "    <tr>\n",
       "      <th>BEDS</th>\n",
       "      <td>4086.00</td>\n",
       "      <td>3.42</td>\n",
       "      <td>2.71</td>\n",
       "      <td>1.00</td>\n",
       "      <td>2.00</td>\n",
       "      <td>3.00</td>\n",
       "      <td>4.00</td>\n",
       "      <td>50.00</td>\n",
       "    </tr>\n",
       "    <tr>\n",
       "      <th>BATH</th>\n",
       "      <td>4086.00</td>\n",
       "      <td>2.42</td>\n",
       "      <td>2.03</td>\n",
       "      <td>0.00</td>\n",
       "      <td>1.00</td>\n",
       "      <td>2.00</td>\n",
       "      <td>3.00</td>\n",
       "      <td>50.00</td>\n",
       "    </tr>\n",
       "    <tr>\n",
       "      <th>PROPERTYSQFT</th>\n",
       "      <td>4086.00</td>\n",
       "      <td>2191.68</td>\n",
       "      <td>2386.41</td>\n",
       "      <td>250.00</td>\n",
       "      <td>1168.75</td>\n",
       "      <td>2184.21</td>\n",
       "      <td>2184.21</td>\n",
       "      <td>65535.00</td>\n",
       "    </tr>\n",
       "  </tbody>\n",
       "</table>\n",
       "</div>\n",
       "    <div class=\"colab-df-buttons\">\n",
       "\n",
       "  <div class=\"colab-df-container\">\n",
       "    <button class=\"colab-df-convert\" onclick=\"convertToInteractive('df-43458e35-614b-4f65-a9d2-fe01b1425e1e')\"\n",
       "            title=\"Convert this dataframe to an interactive table.\"\n",
       "            style=\"display:none;\">\n",
       "\n",
       "  <svg xmlns=\"http://www.w3.org/2000/svg\" height=\"24px\" viewBox=\"0 -960 960 960\">\n",
       "    <path d=\"M120-120v-720h720v720H120Zm60-500h600v-160H180v160Zm220 220h160v-160H400v160Zm0 220h160v-160H400v160ZM180-400h160v-160H180v160Zm440 0h160v-160H620v160ZM180-180h160v-160H180v160Zm440 0h160v-160H620v160Z\"/>\n",
       "  </svg>\n",
       "    </button>\n",
       "\n",
       "  <style>\n",
       "    .colab-df-container {\n",
       "      display:flex;\n",
       "      gap: 12px;\n",
       "    }\n",
       "\n",
       "    .colab-df-convert {\n",
       "      background-color: #E8F0FE;\n",
       "      border: none;\n",
       "      border-radius: 50%;\n",
       "      cursor: pointer;\n",
       "      display: none;\n",
       "      fill: #1967D2;\n",
       "      height: 32px;\n",
       "      padding: 0 0 0 0;\n",
       "      width: 32px;\n",
       "    }\n",
       "\n",
       "    .colab-df-convert:hover {\n",
       "      background-color: #E2EBFA;\n",
       "      box-shadow: 0px 1px 2px rgba(60, 64, 67, 0.3), 0px 1px 3px 1px rgba(60, 64, 67, 0.15);\n",
       "      fill: #174EA6;\n",
       "    }\n",
       "\n",
       "    .colab-df-buttons div {\n",
       "      margin-bottom: 4px;\n",
       "    }\n",
       "\n",
       "    [theme=dark] .colab-df-convert {\n",
       "      background-color: #3B4455;\n",
       "      fill: #D2E3FC;\n",
       "    }\n",
       "\n",
       "    [theme=dark] .colab-df-convert:hover {\n",
       "      background-color: #434B5C;\n",
       "      box-shadow: 0px 1px 3px 1px rgba(0, 0, 0, 0.15);\n",
       "      filter: drop-shadow(0px 1px 2px rgba(0, 0, 0, 0.3));\n",
       "      fill: #FFFFFF;\n",
       "    }\n",
       "  </style>\n",
       "\n",
       "    <script>\n",
       "      const buttonEl =\n",
       "        document.querySelector('#df-43458e35-614b-4f65-a9d2-fe01b1425e1e button.colab-df-convert');\n",
       "      buttonEl.style.display =\n",
       "        google.colab.kernel.accessAllowed ? 'block' : 'none';\n",
       "\n",
       "      async function convertToInteractive(key) {\n",
       "        const element = document.querySelector('#df-43458e35-614b-4f65-a9d2-fe01b1425e1e');\n",
       "        const dataTable =\n",
       "          await google.colab.kernel.invokeFunction('convertToInteractive',\n",
       "                                                    [key], {});\n",
       "        if (!dataTable) return;\n",
       "\n",
       "        const docLinkHtml = 'Like what you see? Visit the ' +\n",
       "          '<a target=\"_blank\" href=https://colab.research.google.com/notebooks/data_table.ipynb>data table notebook</a>'\n",
       "          + ' to learn more about interactive tables.';\n",
       "        element.innerHTML = '';\n",
       "        dataTable['output_type'] = 'display_data';\n",
       "        await google.colab.output.renderOutput(dataTable, element);\n",
       "        const docLink = document.createElement('div');\n",
       "        docLink.innerHTML = docLinkHtml;\n",
       "        element.appendChild(docLink);\n",
       "      }\n",
       "    </script>\n",
       "  </div>\n",
       "\n",
       "\n",
       "<div id=\"df-e78c108f-d4ca-4e9e-9f46-9d0e085ca45e\">\n",
       "  <button class=\"colab-df-quickchart\" onclick=\"quickchart('df-e78c108f-d4ca-4e9e-9f46-9d0e085ca45e')\"\n",
       "            title=\"Suggest charts\"\n",
       "            style=\"display:none;\">\n",
       "\n",
       "<svg xmlns=\"http://www.w3.org/2000/svg\" height=\"24px\"viewBox=\"0 0 24 24\"\n",
       "     width=\"24px\">\n",
       "    <g>\n",
       "        <path d=\"M19 3H5c-1.1 0-2 .9-2 2v14c0 1.1.9 2 2 2h14c1.1 0 2-.9 2-2V5c0-1.1-.9-2-2-2zM9 17H7v-7h2v7zm4 0h-2V7h2v10zm4 0h-2v-4h2v4z\"/>\n",
       "    </g>\n",
       "</svg>\n",
       "  </button>\n",
       "\n",
       "<style>\n",
       "  .colab-df-quickchart {\n",
       "      --bg-color: #E8F0FE;\n",
       "      --fill-color: #1967D2;\n",
       "      --hover-bg-color: #E2EBFA;\n",
       "      --hover-fill-color: #174EA6;\n",
       "      --disabled-fill-color: #AAA;\n",
       "      --disabled-bg-color: #DDD;\n",
       "  }\n",
       "\n",
       "  [theme=dark] .colab-df-quickchart {\n",
       "      --bg-color: #3B4455;\n",
       "      --fill-color: #D2E3FC;\n",
       "      --hover-bg-color: #434B5C;\n",
       "      --hover-fill-color: #FFFFFF;\n",
       "      --disabled-bg-color: #3B4455;\n",
       "      --disabled-fill-color: #666;\n",
       "  }\n",
       "\n",
       "  .colab-df-quickchart {\n",
       "    background-color: var(--bg-color);\n",
       "    border: none;\n",
       "    border-radius: 50%;\n",
       "    cursor: pointer;\n",
       "    display: none;\n",
       "    fill: var(--fill-color);\n",
       "    height: 32px;\n",
       "    padding: 0;\n",
       "    width: 32px;\n",
       "  }\n",
       "\n",
       "  .colab-df-quickchart:hover {\n",
       "    background-color: var(--hover-bg-color);\n",
       "    box-shadow: 0 1px 2px rgba(60, 64, 67, 0.3), 0 1px 3px 1px rgba(60, 64, 67, 0.15);\n",
       "    fill: var(--button-hover-fill-color);\n",
       "  }\n",
       "\n",
       "  .colab-df-quickchart-complete:disabled,\n",
       "  .colab-df-quickchart-complete:disabled:hover {\n",
       "    background-color: var(--disabled-bg-color);\n",
       "    fill: var(--disabled-fill-color);\n",
       "    box-shadow: none;\n",
       "  }\n",
       "\n",
       "  .colab-df-spinner {\n",
       "    border: 2px solid var(--fill-color);\n",
       "    border-color: transparent;\n",
       "    border-bottom-color: var(--fill-color);\n",
       "    animation:\n",
       "      spin 1s steps(1) infinite;\n",
       "  }\n",
       "\n",
       "  @keyframes spin {\n",
       "    0% {\n",
       "      border-color: transparent;\n",
       "      border-bottom-color: var(--fill-color);\n",
       "      border-left-color: var(--fill-color);\n",
       "    }\n",
       "    20% {\n",
       "      border-color: transparent;\n",
       "      border-left-color: var(--fill-color);\n",
       "      border-top-color: var(--fill-color);\n",
       "    }\n",
       "    30% {\n",
       "      border-color: transparent;\n",
       "      border-left-color: var(--fill-color);\n",
       "      border-top-color: var(--fill-color);\n",
       "      border-right-color: var(--fill-color);\n",
       "    }\n",
       "    40% {\n",
       "      border-color: transparent;\n",
       "      border-right-color: var(--fill-color);\n",
       "      border-top-color: var(--fill-color);\n",
       "    }\n",
       "    60% {\n",
       "      border-color: transparent;\n",
       "      border-right-color: var(--fill-color);\n",
       "    }\n",
       "    80% {\n",
       "      border-color: transparent;\n",
       "      border-right-color: var(--fill-color);\n",
       "      border-bottom-color: var(--fill-color);\n",
       "    }\n",
       "    90% {\n",
       "      border-color: transparent;\n",
       "      border-bottom-color: var(--fill-color);\n",
       "    }\n",
       "  }\n",
       "</style>\n",
       "\n",
       "  <script>\n",
       "    async function quickchart(key) {\n",
       "      const quickchartButtonEl =\n",
       "        document.querySelector('#' + key + ' button');\n",
       "      quickchartButtonEl.disabled = true;  // To prevent multiple clicks.\n",
       "      quickchartButtonEl.classList.add('colab-df-spinner');\n",
       "      try {\n",
       "        const charts = await google.colab.kernel.invokeFunction(\n",
       "            'suggestCharts', [key], {});\n",
       "      } catch (error) {\n",
       "        console.error('Error during call to suggestCharts:', error);\n",
       "      }\n",
       "      quickchartButtonEl.classList.remove('colab-df-spinner');\n",
       "      quickchartButtonEl.classList.add('colab-df-quickchart-complete');\n",
       "    }\n",
       "    (() => {\n",
       "      let quickchartButtonEl =\n",
       "        document.querySelector('#df-e78c108f-d4ca-4e9e-9f46-9d0e085ca45e button');\n",
       "      quickchartButtonEl.style.display =\n",
       "        google.colab.kernel.accessAllowed ? 'block' : 'none';\n",
       "    })();\n",
       "  </script>\n",
       "</div>\n",
       "\n",
       "    </div>\n",
       "  </div>\n"
      ],
      "text/plain": [
       "               count       mean         std     min       25%       50%  \\\n",
       "PRICE        4086.00 2535747.32 33966671.67 5800.00 499999.00 849000.00   \n",
       "BEDS         4086.00       3.42        2.71    1.00      2.00      3.00   \n",
       "BATH         4086.00       2.42        2.03    0.00      1.00      2.00   \n",
       "PROPERTYSQFT 4086.00    2191.68     2386.41  250.00   1168.75   2184.21   \n",
       "\n",
       "                    75%           max  \n",
       "PRICE        1571250.00 2147483647.00  \n",
       "BEDS               4.00         50.00  \n",
       "BATH               3.00         50.00  \n",
       "PROPERTYSQFT    2184.21      65535.00  "
      ]
     },
     "execution_count": 19,
     "metadata": {},
     "output_type": "execute_result"
    }
   ],
   "source": [
    "data.describe().T"
   ]
  },
  {
   "cell_type": "markdown",
   "metadata": {
    "id": "jcd5fPhMA-tQ"
   },
   "source": [
    "* `Bedrooms:` On average there are 3 bedrooms in a property. 75% of the properties have less than or equal to 4 bedrooms. There are some properties which have 50 bedrooms.  50 may be an outlier or bad data\n",
    "* `Baths:` On average there are 2 bathrooms in a property. 75% of the properties have less than or equal to 3 bathrooms. There are some properties which have 50 bathrooms. 50 may be an outlier or bad data\n",
    "* `Property Sq Feet`: The square feet column has a huge standard deviation +2000 with a mean and median size of 2177 and 2184 sq feet respectively. Also, there is a huge difference between the maximum value and the 75% percentile of the data which indicates there might be outliers present in this column.\n",
    "* `Price`: On average the house prices are 2,381,171. The median price is 825,000. There is a huge difference between the maximum value and the 75% percentile of the data which indicates there might be outliers present in this column."
   ]
  },
  {
   "cell_type": "code",
   "execution_count": 21,
   "metadata": {
    "colab": {
     "base_uri": "https://localhost:8080/"
    },
    "id": "BgaWgG3VVd2k",
    "outputId": "b657a7d7-4da2-4934-8f20-e2b402655b4d"
   },
   "outputs": [
    {
     "data": {
      "text/plain": [
       "SUBLOCALITY\n",
       "New York            837\n",
       "Kings County        636\n",
       "Queens County       588\n",
       "Queens              465\n",
       "Brooklyn            404\n",
       "Richmond County     366\n",
       "Bronx County        283\n",
       "New York County     257\n",
       "The Bronx           166\n",
       "Staten Island        46\n",
       "Manhattan            21\n",
       "Flushing              4\n",
       "Coney Island          3\n",
       "Riverdale             3\n",
       "East Bronx            1\n",
       "Brooklyn Heights      1\n",
       "Jackson Heights       1\n",
       "Rego Park             1\n",
       "Fort Hamilton         1\n",
       "Dumbo                 1\n",
       "Snyder Avenue         1\n",
       "Name: count, dtype: int64"
      ]
     },
     "execution_count": 21,
     "metadata": {},
     "output_type": "execute_result"
    }
   ],
   "source": [
    "# let's check the Sublocality column\n",
    "data['SUBLOCALITY'].value_counts()"
   ]
  },
  {
   "cell_type": "code",
   "execution_count": 22,
   "metadata": {
    "id": "wcrCO3bD49Yx"
   },
   "outputs": [],
   "source": [
    "#Remove the rows with less than 5 sold in the Sublocality\n",
    "data = data[data.groupby(\"SUBLOCALITY\")[\"SUBLOCALITY\"].transform(\"size\") > 4]\n"
   ]
  },
  {
   "cell_type": "markdown",
   "metadata": {
    "id": "j6uAieYsNnL4"
   },
   "source": [
    "### 4.2 Univariate Analysis"
   ]
  },
  {
   "cell_type": "markdown",
   "metadata": {
    "id": "jVuRCQCsPdq5"
   },
   "source": [
    "**Let's check the distribution for numerical columns.**"
   ]
  },
  {
   "cell_type": "code",
   "execution_count": 24,
   "metadata": {
    "colab": {
     "base_uri": "https://localhost:8080/",
     "height": 938
    },
    "id": "TY76HkfaQYjo",
    "outputId": "8bfaf59b-7b46-4397-91b5-251283fe1643"
   },
   "outputs": [
    {
     "data": {
      "image/png": "[encoded data removed]",
      "text/plain": [
       "<Figure size 500x500 with 1 Axes>"
      ]
     },
     "metadata": {},
     "output_type": "display_data"
    },
    {
     "data": {
      "image/png": "[encoded data removed]",
      "text/plain": [
       "<Figure size 640x480 with 1 Axes>"
      ]
     },
     "metadata": {},
     "output_type": "display_data"
    }
   ],
   "source": [
    "sns.displot(data=data,x='PROPERTYSQFT',kind='kde')\n",
    "plt.show()\n",
    "sns.boxplot(data=data,x='PROPERTYSQFT')\n",
    "plt.show()"
   ]
  },
  {
   "cell_type": "markdown",
   "metadata": {
    "id": "VHecWkKeavN4"
   },
   "source": [
    "* The distribution of Property Square feet is right skewed.\n",
    "* It has many outliers. There are values above 10000 sq feet which seems high.\n",
    "* Plot only the values that are less than 10000 sq feet."
   ]
  },
  {
   "cell_type": "code",
   "execution_count": 25,
   "metadata": {
    "colab": {
     "base_uri": "https://localhost:8080/"
    },
    "id": "yIkhF5_KbKjz",
    "outputId": "4ae186d6-3020-488f-ec38-92167e09e8a2"
   },
   "outputs": [
    {
     "data": {
      "text/plain": [
       "3538"
      ]
     },
     "execution_count": 25,
     "metadata": {},
     "output_type": "execute_result"
    }
   ],
   "source": [
    "#How many observations have a square footage of less than 3000\n",
    "cleaned_data = data.loc[data['PROPERTYSQFT'] < 3000 ]\n",
    "cleaned_data.value_counts().sum()\n"
   ]
  },
  {
   "cell_type": "code",
   "execution_count": 26,
   "metadata": {
    "colab": {
     "base_uri": "https://localhost:8080/",
     "height": 938
    },
    "id": "D_q13xUrcmIc",
    "outputId": "e7ee4a68-af69-4c89-9a15-b377f1253e81"
   },
   "outputs": [
    {
     "data": {
      "image/png": "[encoded data removed]",
      "text/plain": [
       "<Figure size 500x500 with 1 Axes>"
      ]
     },
     "metadata": {},
     "output_type": "display_data"
    },
    {
     "data": {
      "image/png": "[encoded data removed]",
      "text/plain": [
       "<Figure size 640x480 with 1 Axes>"
      ]
     },
     "metadata": {},
     "output_type": "display_data"
    }
   ],
   "source": [
    "# Plot again\n",
    "sns.displot(data=cleaned_data,x='PROPERTYSQFT', kind='kde')\n",
    "plt.show()\n",
    "sns.boxplot(data=cleaned_data,x='PROPERTYSQFT')\n",
    "plt.show()"
   ]
  },
  {
   "cell_type": "markdown",
   "metadata": {
    "id": "VLfP2dYjRUEV"
   },
   "source": [
    "**Observations on Price**"
   ]
  },
  {
   "cell_type": "code",
   "execution_count": 27,
   "metadata": {
    "colab": {
     "base_uri": "https://localhost:8080/",
     "height": 927
    },
    "id": "LPBoV_-WQoHw",
    "outputId": "726b341c-133f-4d3d-b769-977a46c3bb34"
   },
   "outputs": [
    {
     "data": {
      "image/png": "[encoded data removed]",
      "text/plain": [
       "<Figure size 640x480 with 1 Axes>"
      ]
     },
     "metadata": {},
     "output_type": "display_data"
    },
    {
     "data": {
      "image/png": "[encoded data removed]",
      "text/plain": [
       "<Figure size 640x480 with 1 Axes>"
      ]
     },
     "metadata": {},
     "output_type": "display_data"
    }
   ],
   "source": [
    "sns.histplot(data=cleaned_data,x='PRICE')\n",
    "\n",
    "plt.ticklabel_format(useOffset=False)\n",
    "plt.ticklabel_format(style='plain')\n",
    "plt.xticks(rotation=45)\n",
    "plt.show()\n",
    "sns.boxplot(data=cleaned_data,x='PRICE')\n",
    "\n",
    "plt.show()"
   ]
  },
  {
   "cell_type": "code",
   "execution_count": 28,
   "metadata": {
    "colab": {
     "base_uri": "https://localhost:8080/"
    },
    "id": "kjVZq_6ZTUnR",
    "outputId": "0e39b12a-cb04-45fe-e228-cca13be8c78c"
   },
   "outputs": [
    {
     "data": {
      "text/plain": [
       "2406"
      ]
     },
     "execution_count": 28,
     "metadata": {},
     "output_type": "execute_result"
    }
   ],
   "source": [
    "#How many observations have a price of less than 1,500,000 which is at the 75% and are greater than 499000 which is the 25%\n",
    "#new_data = data.loc[(data['PRICE'] > 199000) & (data['PRICE'] < 20000000)]\n",
    "#new_data = data.loc[data['PRICE'] > 20000000]\n",
    "cleaned_data = cleaned_data.loc[data['PRICE'] < 1000000]\n",
    "#new_data = data.loc[data['PRICE'] > 20000000]\n",
    "cleaned_data.value_counts().sum()"
   ]
  },
  {
   "cell_type": "code",
   "execution_count": 29,
   "metadata": {
    "colab": {
     "base_uri": "https://localhost:8080/",
     "height": 921
    },
    "id": "lrf7sikBTYp9",
    "outputId": "d8b66c4c-9f5e-4bbd-e0f0-da61cbf92c22"
   },
   "outputs": [
    {
     "data": {
      "image/png": "[encoded data removed]",
      "text/plain": [
       "<Figure size 640x480 with 1 Axes>"
      ]
     },
     "metadata": {},
     "output_type": "display_data"
    },
    {
     "data": {
      "image/png": "[encoded data removed]",
      "text/plain": [
       "<Figure size 640x480 with 1 Axes>"
      ]
     },
     "metadata": {},
     "output_type": "display_data"
    }
   ],
   "source": [
    "sns.histplot(data=cleaned_data,x='PRICE')\n",
    "\n",
    "plt.ticklabel_format(useOffset=False)\n",
    "plt.ticklabel_format(style='plain')\n",
    "plt.xticks(rotation=45)\n",
    "plt.show()\n",
    "sns.boxplot(data=cleaned_data,x='PRICE')\n",
    "\n",
    "plt.show()"
   ]
  },
  {
   "cell_type": "markdown",
   "metadata": {
    "id": "q09RzXRfdrUk"
   },
   "source": [
    "**Observations on Rooms**\n"
   ]
  },
  {
   "cell_type": "code",
   "execution_count": 31,
   "metadata": {
    "colab": {
     "base_uri": "https://localhost:8080/",
     "height": 881
    },
    "id": "K89at1LGdtjT",
    "outputId": "ec546112-e709-4e5a-dcf2-1e912b8a8dbf"
   },
   "outputs": [
    {
     "data": {
      "image/png": "[encoded data removed]",
      "text/plain": [
       "<Figure size 640x480 with 1 Axes>"
      ]
     },
     "metadata": {},
     "output_type": "display_data"
    },
    {
     "data": {
      "image/png": "[encoded data removed]",
      "text/plain": [
       "<Figure size 640x480 with 1 Axes>"
      ]
     },
     "metadata": {},
     "output_type": "display_data"
    }
   ],
   "source": [
    "sns.histplot(data=cleaned_data,x='BEDS')\n",
    "\n",
    "plt.ticklabel_format(useOffset=False)\n",
    "plt.show()\n",
    "sns.boxplot(data=cleaned_data,x='BEDS')\n",
    "plt.show()"
   ]
  },
  {
   "cell_type": "code",
   "execution_count": 32,
   "metadata": {
    "colab": {
     "base_uri": "https://localhost:8080/",
     "height": 881
    },
    "id": "sGQhYZzzQ0IQ",
    "outputId": "3cdb308c-fa11-4ed7-e687-995049e243b3"
   },
   "outputs": [
    {
     "data": {
      "image/png": "[encoded data removed]",
      "text/plain": [
       "<Figure size 640x480 with 1 Axes>"
      ]
     },
     "metadata": {},
     "output_type": "display_data"
    },
    {
     "data": {
      "image/png": "[encoded data removed]",
      "text/plain": [
       "<Figure size 640x480 with 1 Axes>"
      ]
     },
     "metadata": {},
     "output_type": "display_data"
    }
   ],
   "source": [
    "cleaned_data = cleaned_data.loc[data['BEDS'] < 7]\n",
    "\n",
    "sns.histplot(data=cleaned_data,x='BEDS')\n",
    "\n",
    "plt.ticklabel_format(useOffset=False)\n",
    "plt.show()\n",
    "\n",
    "sns.boxplot(data=cleaned_data,x='BEDS')\n",
    "plt.show()"
   ]
  },
  {
   "cell_type": "markdown",
   "metadata": {
    "id": "vFJ9VbuaoxEJ"
   },
   "source": [
    "**Observation on Baths**"
   ]
  },
  {
   "cell_type": "code",
   "execution_count": 33,
   "metadata": {
    "colab": {
     "base_uri": "https://localhost:8080/",
     "height": 881
    },
    "id": "j3BoF4bIo6nb",
    "outputId": "d1dce0e3-b2a3-466f-954a-cd72a91f3801"
   },
   "outputs": [
    {
     "data": {
      "image/png": "[encoded data removed]",
      "text/plain": [
       "<Figure size 640x480 with 1 Axes>"
      ]
     },
     "metadata": {},
     "output_type": "display_data"
    },
    {
     "data": {
      "image/png": "[encoded data removed]",
      "text/plain": [
       "<Figure size 640x480 with 1 Axes>"
      ]
     },
     "metadata": {},
     "output_type": "display_data"
    }
   ],
   "source": [
    "\n",
    "sns.histplot(data=cleaned_data,x='BATH')\n",
    "\n",
    "plt.ticklabel_format(useOffset=False)\n",
    "plt.show()\n",
    "sns.boxplot(data=cleaned_data,x='BATH')\n",
    "plt.show()"
   ]
  },
  {
   "cell_type": "code",
   "execution_count": 35,
   "metadata": {
    "colab": {
     "base_uri": "https://localhost:8080/",
     "height": 881
    },
    "id": "PXJBD1oURHMo",
    "outputId": "364050b6-3891-4846-d2ad-3d8af0bc2414"
   },
   "outputs": [
    {
     "data": {
      "image/png": "[encoded data removed]",
      "text/plain": [
       "<Figure size 640x480 with 1 Axes>"
      ]
     },
     "metadata": {},
     "output_type": "display_data"
    },
    {
     "data": {
      "image/png": "[encoded data removed]",
      "text/plain": [
       "<Figure size 640x480 with 1 Axes>"
      ]
     },
     "metadata": {},
     "output_type": "display_data"
    }
   ],
   "source": [
    "cleaned_data = cleaned_data.loc[data['BATH'] < 7]\n",
    "\n",
    "sns.histplot(data=cleaned_data,x='BEDS')\n",
    "\n",
    "plt.ticklabel_format(useOffset=False)\n",
    "plt.show()\n",
    "\n",
    "sns.boxplot(data=cleaned_data,x='BATH')\n",
    "plt.show()"
   ]
  },
  {
   "cell_type": "markdown",
   "metadata": {
    "id": "5XMEy7wmekJY"
   },
   "source": [
    "**Observations on Property Type**"
   ]
  },
  {
   "cell_type": "code",
   "execution_count": 36,
   "metadata": {
    "colab": {
     "base_uri": "https://localhost:8080/",
     "height": 503
    },
    "id": "gpN8Ov7MeohE",
    "outputId": "de3e19b1-8ed0-41e7-be02-22e649b1d027"
   },
   "outputs": [
    {
     "data": {
      "image/png": "[encoded data removed]",
      "text/plain": [
       "<Figure size 640x480 with 1 Axes>"
      ]
     },
     "metadata": {},
     "output_type": "display_data"
    }
   ],
   "source": [
    "sns.countplot(data=cleaned_data,x='TYPE')\n",
    "plt.xticks(rotation=45)\n",
    "plt.show()"
   ]
  },
  {
   "cell_type": "markdown",
   "metadata": {
    "id": "IsXKXuUOqXey"
   },
   "source": [
    "**Observation of Sublocality**"
   ]
  },
  {
   "cell_type": "code",
   "execution_count": 37,
   "metadata": {
    "colab": {
     "base_uri": "https://localhost:8080/",
     "height": 533
    },
    "id": "mFauL1MLqZcf",
    "outputId": "a6b74ca6-4b81-49c9-b181-9a8eba66a534"
   },
   "outputs": [
    {
     "data": {
      "image/png": "[encoded data removed]",
      "text/plain": [
       "<Figure size 640x480 with 1 Axes>"
      ]
     },
     "metadata": {},
     "output_type": "display_data"
    }
   ],
   "source": [
    "sns.countplot(data=cleaned_data,x='SUBLOCALITY')\n",
    "plt.xticks(rotation=45)\n",
    "plt.show()"
   ]
  },
  {
   "cell_type": "markdown",
   "metadata": {
    "id": "Ne1w2APnhozJ"
   },
   "source": [
    "### 4.3 Bivariate Analysis"
   ]
  },
  {
   "cell_type": "code",
   "execution_count": 38,
   "metadata": {
    "colab": {
     "base_uri": "https://localhost:8080/",
     "height": 451
    },
    "id": "Lkz2y_9zhrOk",
    "outputId": "e41e3703-5cca-46af-9f7e-41e708c87550"
   },
   "outputs": [
    {
     "data": {
      "image/png": "[encoded data removed]",
      "text/plain": [
       "<Figure size 1000x500 with 2 Axes>"
      ]
     },
     "metadata": {},
     "output_type": "display_data"
    }
   ],
   "source": [
    "#create data frame with only numeric data\n",
    "numeric_data = cleaned_data.select_dtypes(include=[\"number\"])\n",
    "\n",
    "plt.figure(figsize=(10,5))\n",
    "sns.heatmap(numeric_data.corr(),annot=True,cmap='Spectral',vmin=-1,vmax=1)\n",
    "plt.show()"
   ]
  },
  {
   "cell_type": "markdown",
   "metadata": {
    "id": "xtMi3rnBh06a"
   },
   "source": [
    "**Observations**\n",
    "* Price column does not show a high correlation with number of bedrooms, bathrooms or square footage.\n",
    "* Bedrooms, Bathrooms and square footage show a high correlation with each other which is expected.\n"
   ]
  },
  {
   "cell_type": "markdown",
   "metadata": {
    "id": "UHfmNHyjjxFT"
   },
   "source": [
    "**Properties which have more space for living or more number of rooms, bedrooms and bathrooms generally tend to have higher selling prices. Let's analyze the relationship between the price and total number of rooms in a property**"
   ]
  },
  {
   "cell_type": "code",
   "execution_count": 39,
   "metadata": {
    "colab": {
     "base_uri": "https://localhost:8080/",
     "height": 206
    },
    "id": "ttM_i-3Kkcef",
    "outputId": "d559629d-1305-444f-d306-5023465c6b64"
   },
   "outputs": [
    {
     "data": {
      "application/vnd.google.colaboratory.intrinsic+json": {
       "summary": "{\n  \"name\": \"cleaned_data\",\n  \"rows\": 2377,\n  \"fields\": [\n    {\n      \"column\": \"TYPE\",\n      \"properties\": {\n        \"dtype\": \"category\",\n        \"num_unique_values\": 6,\n        \"samples\": [\n          \"Condo\",\n          \"House\",\n          \"Land\"\n        ],\n        \"semantic_type\": \"\",\n        \"description\": \"\"\n      }\n    },\n    {\n      \"column\": \"PRICE\",\n      \"properties\": {\n        \"dtype\": \"number\",\n        \"std\": 244097,\n        \"min\": 5800,\n        \"max\": 999999,\n        \"num_unique_values\": 639,\n        \"samples\": [\n          390000,\n          438000,\n          450888\n        ],\n        \"semantic_type\": \"\",\n        \"description\": \"\"\n      }\n    },\n    {\n      \"column\": \"BEDS\",\n      \"properties\": {\n        \"dtype\": \"number\",\n        \"std\": 1,\n        \"min\": 1,\n        \"max\": 6,\n        \"num_unique_values\": 6,\n        \"samples\": [\n          2,\n          4,\n          6\n        ],\n        \"semantic_type\": \"\",\n        \"description\": \"\"\n      }\n    },\n    {\n      \"column\": \"BATH\",\n      \"properties\": {\n        \"dtype\": \"number\",\n        \"std\": 0.7387475198771406,\n        \"min\": 1.0,\n        \"max\": 6.0,\n        \"num_unique_values\": 7,\n        \"samples\": [\n          2.0,\n          1.0,\n          5.0\n        ],\n        \"semantic_type\": \"\",\n        \"description\": \"\"\n      }\n    },\n    {\n      \"column\": \"PROPERTYSQFT\",\n      \"properties\": {\n        \"dtype\": \"number\",\n        \"std\": 642.8524898246119,\n        \"min\": 250.0,\n        \"max\": 2980.0,\n        \"num_unique_values\": 702,\n        \"samples\": [\n          846.0,\n          2208.0,\n          1549.0\n        ],\n        \"semantic_type\": \"\",\n        \"description\": \"\"\n      }\n    },\n    {\n      \"column\": \"SUBLOCALITY\",\n      \"properties\": {\n        \"dtype\": \"category\",\n        \"num_unique_values\": 11,\n        \"samples\": [\n          \"The Bronx\",\n          \"Manhattan\",\n          \"Bronx County\"\n        ],\n        \"semantic_type\": \"\",\n        \"description\": \"\"\n      }\n    },\n    {\n      \"column\": \"TOTAL_ROOMS\",\n      \"properties\": {\n        \"dtype\": \"number\",\n        \"std\": 1.7546279776182372,\n        \"min\": 2.0,\n        \"max\": 11.0,\n        \"num_unique_values\": 16,\n        \"samples\": [\n          4.0,\n          6.0,\n          2.0\n        ],\n        \"semantic_type\": \"\",\n        \"description\": \"\"\n      }\n    }\n  ]\n}",
       "type": "dataframe",
       "variable_name": "cleaned_data"
      },
      "text/html": [
       "\n",
       "  <div id=\"df-45583610-bc84-44ec-b717-70d16ee70f3e\" class=\"colab-df-container\">\n",
       "    <div>\n",
       "<style scoped>\n",
       "    .dataframe tbody tr th:only-of-type {\n",
       "        vertical-align: middle;\n",
       "    }\n",
       "\n",
       "    .dataframe tbody tr th {\n",
       "        vertical-align: top;\n",
       "    }\n",
       "\n",
       "    .dataframe thead th {\n",
       "        text-align: right;\n",
       "    }\n",
       "</style>\n",
       "<table border=\"1\" class=\"dataframe\">\n",
       "  <thead>\n",
       "    <tr style=\"text-align: right;\">\n",
       "      <th></th>\n",
       "      <th>TYPE</th>\n",
       "      <th>PRICE</th>\n",
       "      <th>BEDS</th>\n",
       "      <th>BATH</th>\n",
       "      <th>PROPERTYSQFT</th>\n",
       "      <th>SUBLOCALITY</th>\n",
       "      <th>TOTAL_ROOMS</th>\n",
       "    </tr>\n",
       "  </thead>\n",
       "  <tbody>\n",
       "    <tr>\n",
       "      <th>0</th>\n",
       "      <td>Condo</td>\n",
       "      <td>315000</td>\n",
       "      <td>2</td>\n",
       "      <td>2.00</td>\n",
       "      <td>1400.00</td>\n",
       "      <td>Manhattan</td>\n",
       "      <td>4.00</td>\n",
       "    </tr>\n",
       "    <tr>\n",
       "      <th>2</th>\n",
       "      <td>House</td>\n",
       "      <td>260000</td>\n",
       "      <td>4</td>\n",
       "      <td>2.00</td>\n",
       "      <td>2015.00</td>\n",
       "      <td>Richmond County</td>\n",
       "      <td>6.00</td>\n",
       "    </tr>\n",
       "    <tr>\n",
       "      <th>3</th>\n",
       "      <td>Condo</td>\n",
       "      <td>69000</td>\n",
       "      <td>3</td>\n",
       "      <td>1.00</td>\n",
       "      <td>445.00</td>\n",
       "      <td>New York County</td>\n",
       "      <td>4.00</td>\n",
       "    </tr>\n",
       "    <tr>\n",
       "      <th>6</th>\n",
       "      <td>Condo</td>\n",
       "      <td>899500</td>\n",
       "      <td>2</td>\n",
       "      <td>2.00</td>\n",
       "      <td>2184.21</td>\n",
       "      <td>New York</td>\n",
       "      <td>4.00</td>\n",
       "    </tr>\n",
       "    <tr>\n",
       "      <th>9</th>\n",
       "      <td>Coop</td>\n",
       "      <td>440000</td>\n",
       "      <td>2</td>\n",
       "      <td>1.00</td>\n",
       "      <td>978.00</td>\n",
       "      <td>Brooklyn</td>\n",
       "      <td>3.00</td>\n",
       "    </tr>\n",
       "  </tbody>\n",
       "</table>\n",
       "</div>\n",
       "    <div class=\"colab-df-buttons\">\n",
       "\n",
       "  <div class=\"colab-df-container\">\n",
       "    <button class=\"colab-df-convert\" onclick=\"convertToInteractive('df-45583610-bc84-44ec-b717-70d16ee70f3e')\"\n",
       "            title=\"Convert this dataframe to an interactive table.\"\n",
       "            style=\"display:none;\">\n",
       "\n",
       "  <svg xmlns=\"http://www.w3.org/2000/svg\" height=\"24px\" viewBox=\"0 -960 960 960\">\n",
       "    <path d=\"M120-120v-720h720v720H120Zm60-500h600v-160H180v160Zm220 220h160v-160H400v160Zm0 220h160v-160H400v160ZM180-400h160v-160H180v160Zm440 0h160v-160H620v160ZM180-180h160v-160H180v160Zm440 0h160v-160H620v160Z\"/>\n",
       "  </svg>\n",
       "    </button>\n",
       "\n",
       "  <style>\n",
       "    .colab-df-container {\n",
       "      display:flex;\n",
       "      gap: 12px;\n",
       "    }\n",
       "\n",
       "    .colab-df-convert {\n",
       "      background-color: #E8F0FE;\n",
       "      border: none;\n",
       "      border-radius: 50%;\n",
       "      cursor: pointer;\n",
       "      display: none;\n",
       "      fill: #1967D2;\n",
       "      height: 32px;\n",
       "      padding: 0 0 0 0;\n",
       "      width: 32px;\n",
       "    }\n",
       "\n",
       "    .colab-df-convert:hover {\n",
       "      background-color: #E2EBFA;\n",
       "      box-shadow: 0px 1px 2px rgba(60, 64, 67, 0.3), 0px 1px 3px 1px rgba(60, 64, 67, 0.15);\n",
       "      fill: #174EA6;\n",
       "    }\n",
       "\n",
       "    .colab-df-buttons div {\n",
       "      margin-bottom: 4px;\n",
       "    }\n",
       "\n",
       "    [theme=dark] .colab-df-convert {\n",
       "      background-color: #3B4455;\n",
       "      fill: #D2E3FC;\n",
       "    }\n",
       "\n",
       "    [theme=dark] .colab-df-convert:hover {\n",
       "      background-color: #434B5C;\n",
       "      box-shadow: 0px 1px 3px 1px rgba(0, 0, 0, 0.15);\n",
       "      filter: drop-shadow(0px 1px 2px rgba(0, 0, 0, 0.3));\n",
       "      fill: #FFFFFF;\n",
       "    }\n",
       "  </style>\n",
       "\n",
       "    <script>\n",
       "      const buttonEl =\n",
       "        document.querySelector('#df-45583610-bc84-44ec-b717-70d16ee70f3e button.colab-df-convert');\n",
       "      buttonEl.style.display =\n",
       "        google.colab.kernel.accessAllowed ? 'block' : 'none';\n",
       "\n",
       "      async function convertToInteractive(key) {\n",
       "        const element = document.querySelector('#df-45583610-bc84-44ec-b717-70d16ee70f3e');\n",
       "        const dataTable =\n",
       "          await google.colab.kernel.invokeFunction('convertToInteractive',\n",
       "                                                    [key], {});\n",
       "        if (!dataTable) return;\n",
       "\n",
       "        const docLinkHtml = 'Like what you see? Visit the ' +\n",
       "          '<a target=\"_blank\" href=https://colab.research.google.com/notebooks/data_table.ipynb>data table notebook</a>'\n",
       "          + ' to learn more about interactive tables.';\n",
       "        element.innerHTML = '';\n",
       "        dataTable['output_type'] = 'display_data';\n",
       "        await google.colab.output.renderOutput(dataTable, element);\n",
       "        const docLink = document.createElement('div');\n",
       "        docLink.innerHTML = docLinkHtml;\n",
       "        element.appendChild(docLink);\n",
       "      }\n",
       "    </script>\n",
       "  </div>\n",
       "\n",
       "\n",
       "<div id=\"df-6bad265a-da22-460b-a03d-dcbe011b904d\">\n",
       "  <button class=\"colab-df-quickchart\" onclick=\"quickchart('df-6bad265a-da22-460b-a03d-dcbe011b904d')\"\n",
       "            title=\"Suggest charts\"\n",
       "            style=\"display:none;\">\n",
       "\n",
       "<svg xmlns=\"http://www.w3.org/2000/svg\" height=\"24px\"viewBox=\"0 0 24 24\"\n",
       "     width=\"24px\">\n",
       "    <g>\n",
       "        <path d=\"M19 3H5c-1.1 0-2 .9-2 2v14c0 1.1.9 2 2 2h14c1.1 0 2-.9 2-2V5c0-1.1-.9-2-2-2zM9 17H7v-7h2v7zm4 0h-2V7h2v10zm4 0h-2v-4h2v4z\"/>\n",
       "    </g>\n",
       "</svg>\n",
       "  </button>\n",
       "\n",
       "<style>\n",
       "  .colab-df-quickchart {\n",
       "      --bg-color: #E8F0FE;\n",
       "      --fill-color: #1967D2;\n",
       "      --hover-bg-color: #E2EBFA;\n",
       "      --hover-fill-color: #174EA6;\n",
       "      --disabled-fill-color: #AAA;\n",
       "      --disabled-bg-color: #DDD;\n",
       "  }\n",
       "\n",
       "  [theme=dark] .colab-df-quickchart {\n",
       "      --bg-color: #3B4455;\n",
       "      --fill-color: #D2E3FC;\n",
       "      --hover-bg-color: #434B5C;\n",
       "      --hover-fill-color: #FFFFFF;\n",
       "      --disabled-bg-color: #3B4455;\n",
       "      --disabled-fill-color: #666;\n",
       "  }\n",
       "\n",
       "  .colab-df-quickchart {\n",
       "    background-color: var(--bg-color);\n",
       "    border: none;\n",
       "    border-radius: 50%;\n",
       "    cursor: pointer;\n",
       "    display: none;\n",
       "    fill: var(--fill-color);\n",
       "    height: 32px;\n",
       "    padding: 0;\n",
       "    width: 32px;\n",
       "  }\n",
       "\n",
       "  .colab-df-quickchart:hover {\n",
       "    background-color: var(--hover-bg-color);\n",
       "    box-shadow: 0 1px 2px rgba(60, 64, 67, 0.3), 0 1px 3px 1px rgba(60, 64, 67, 0.15);\n",
       "    fill: var(--button-hover-fill-color);\n",
       "  }\n",
       "\n",
       "  .colab-df-quickchart-complete:disabled,\n",
       "  .colab-df-quickchart-complete:disabled:hover {\n",
       "    background-color: var(--disabled-bg-color);\n",
       "    fill: var(--disabled-fill-color);\n",
       "    box-shadow: none;\n",
       "  }\n",
       "\n",
       "  .colab-df-spinner {\n",
       "    border: 2px solid var(--fill-color);\n",
       "    border-color: transparent;\n",
       "    border-bottom-color: var(--fill-color);\n",
       "    animation:\n",
       "      spin 1s steps(1) infinite;\n",
       "  }\n",
       "\n",
       "  @keyframes spin {\n",
       "    0% {\n",
       "      border-color: transparent;\n",
       "      border-bottom-color: var(--fill-color);\n",
       "      border-left-color: var(--fill-color);\n",
       "    }\n",
       "    20% {\n",
       "      border-color: transparent;\n",
       "      border-left-color: var(--fill-color);\n",
       "      border-top-color: var(--fill-color);\n",
       "    }\n",
       "    30% {\n",
       "      border-color: transparent;\n",
       "      border-left-color: var(--fill-color);\n",
       "      border-top-color: var(--fill-color);\n",
       "      border-right-color: var(--fill-color);\n",
       "    }\n",
       "    40% {\n",
       "      border-color: transparent;\n",
       "      border-right-color: var(--fill-color);\n",
       "      border-top-color: var(--fill-color);\n",
       "    }\n",
       "    60% {\n",
       "      border-color: transparent;\n",
       "      border-right-color: var(--fill-color);\n",
       "    }\n",
       "    80% {\n",
       "      border-color: transparent;\n",
       "      border-right-color: var(--fill-color);\n",
       "      border-bottom-color: var(--fill-color);\n",
       "    }\n",
       "    90% {\n",
       "      border-color: transparent;\n",
       "      border-bottom-color: var(--fill-color);\n",
       "    }\n",
       "  }\n",
       "</style>\n",
       "\n",
       "  <script>\n",
       "    async function quickchart(key) {\n",
       "      const quickchartButtonEl =\n",
       "        document.querySelector('#' + key + ' button');\n",
       "      quickchartButtonEl.disabled = true;  // To prevent multiple clicks.\n",
       "      quickchartButtonEl.classList.add('colab-df-spinner');\n",
       "      try {\n",
       "        const charts = await google.colab.kernel.invokeFunction(\n",
       "            'suggestCharts', [key], {});\n",
       "      } catch (error) {\n",
       "        console.error('Error during call to suggestCharts:', error);\n",
       "      }\n",
       "      quickchartButtonEl.classList.remove('colab-df-spinner');\n",
       "      quickchartButtonEl.classList.add('colab-df-quickchart-complete');\n",
       "    }\n",
       "    (() => {\n",
       "      let quickchartButtonEl =\n",
       "        document.querySelector('#df-6bad265a-da22-460b-a03d-dcbe011b904d button');\n",
       "      quickchartButtonEl.style.display =\n",
       "        google.colab.kernel.accessAllowed ? 'block' : 'none';\n",
       "    })();\n",
       "  </script>\n",
       "</div>\n",
       "\n",
       "    </div>\n",
       "  </div>\n"
      ],
      "text/plain": [
       "    TYPE   PRICE  BEDS  BATH  PROPERTYSQFT      SUBLOCALITY  TOTAL_ROOMS\n",
       "0  Condo  315000     2  2.00       1400.00        Manhattan         4.00\n",
       "2  House  260000     4  2.00       2015.00  Richmond County         6.00\n",
       "3  Condo   69000     3  1.00        445.00  New York County         4.00\n",
       "6  Condo  899500     2  2.00       2184.21         New York         4.00\n",
       "9   Coop  440000     2  1.00        978.00         Brooklyn         3.00"
      ]
     },
     "execution_count": 39,
     "metadata": {},
     "output_type": "execute_result"
    }
   ],
   "source": [
    "# let's create a column with a sum of number of rooms, bedrooms, bathrooms, and car parking spaces\n",
    "cleaned_data['TOTAL_ROOMS'] = cleaned_data['BEDS'] + cleaned_data['BATH']\n",
    "cleaned_data.head()\n"
   ]
  },
  {
   "cell_type": "markdown",
   "metadata": {
    "id": "b_1dHSCtksIb"
   },
   "source": [
    "* The column has been successfully added in the data frame."
   ]
  },
  {
   "cell_type": "code",
   "execution_count": 40,
   "metadata": {
    "colab": {
     "base_uri": "https://localhost:8080/",
     "height": 465
    },
    "id": "-GURbUCUk4lX",
    "outputId": "536e6d9e-4a4d-43e2-ec6d-59795eaa1ff5"
   },
   "outputs": [
    {
     "data": {
      "image/png": "[encoded data removed]",
      "text/plain": [
       "<Figure size 1000x500 with 1 Axes>"
      ]
     },
     "metadata": {},
     "output_type": "display_data"
    }
   ],
   "source": [
    "plt.figure(figsize=(10,5))\n",
    "sns.scatterplot(data=cleaned_data,x='TOTAL_ROOMS',y='PRICE')\n",
    "plt.ticklabel_format(style='plain')\n",
    "plt.show()"
   ]
  },
  {
   "cell_type": "markdown",
   "metadata": {
    "id": "gg3lKcnpBwrn"
   },
   "source": [
    "* We can see an increasing trend of selling price with total space. Let's visualize the trend using lmplot()."
   ]
  },
  {
   "cell_type": "code",
   "execution_count": 41,
   "metadata": {
    "colab": {
     "base_uri": "https://localhost:8080/",
     "height": 506
    },
    "id": "aOHwBExOBwro",
    "outputId": "c946ac38-06a1-4dfd-9a98-ff424aeca6b4"
   },
   "outputs": [
    {
     "data": {
      "image/png": "[encoded data removed]",
      "text/plain": [
       "<Figure size 1000x500 with 1 Axes>"
      ]
     },
     "metadata": {},
     "output_type": "display_data"
    }
   ],
   "source": [
    "sns.lmplot(data=cleaned_data,x='TOTAL_ROOMS',y='PRICE',height=5,aspect=2)\n",
    "plt.xlim(0,55)\n",
    "plt.show()"
   ]
  },
  {
   "cell_type": "markdown",
   "metadata": {
    "id": "eLrZu7iVk-Dk"
   },
   "source": [
    "* A positive correlation or an increasing trend can be clearly observed between the total number of rooms and the selling price of the property, although the line plotted by lmlot() doesn't show a high correlation. Let's check the correlation value further.\n",
    "* The positive correlation indicates that more living space implies a higher selling price."
   ]
  },
  {
   "cell_type": "code",
   "execution_count": 42,
   "metadata": {
    "colab": {
     "base_uri": "https://localhost:8080/",
     "height": 112
    },
    "id": "YzLfovNbBwro",
    "outputId": "62ee90f4-2dab-43a9-f20b-9694fd839b2e"
   },
   "outputs": [
    {
     "data": {
      "application/vnd.google.colaboratory.intrinsic+json": {
       "summary": "{\n  \"name\": \"cleaned_data[['TOTAL_ROOMS','PRICE']]\",\n  \"rows\": 2,\n  \"fields\": [\n    {\n      \"column\": \"TOTAL_ROOMS\",\n      \"properties\": {\n        \"dtype\": \"number\",\n        \"std\": 0.3360314351334947,\n        \"min\": 0.5247797870505169,\n        \"max\": 1.0,\n        \"num_unique_values\": 2,\n        \"samples\": [\n          0.5247797870505169,\n          1.0\n        ],\n        \"semantic_type\": \"\",\n        \"description\": \"\"\n      }\n    },\n    {\n      \"column\": \"PRICE\",\n      \"properties\": {\n        \"dtype\": \"number\",\n        \"std\": 0.3360314351334947,\n        \"min\": 0.5247797870505169,\n        \"max\": 1.0,\n        \"num_unique_values\": 2,\n        \"samples\": [\n          1.0,\n          0.5247797870505169\n        ],\n        \"semantic_type\": \"\",\n        \"description\": \"\"\n      }\n    }\n  ]\n}",
       "type": "dataframe"
      },
      "text/html": [
       "\n",
       "  <div id=\"df-77ab20a3-0fa5-4155-a4dd-8bc79372baa6\" class=\"colab-df-container\">\n",
       "    <div>\n",
       "<style scoped>\n",
       "    .dataframe tbody tr th:only-of-type {\n",
       "        vertical-align: middle;\n",
       "    }\n",
       "\n",
       "    .dataframe tbody tr th {\n",
       "        vertical-align: top;\n",
       "    }\n",
       "\n",
       "    .dataframe thead th {\n",
       "        text-align: right;\n",
       "    }\n",
       "</style>\n",
       "<table border=\"1\" class=\"dataframe\">\n",
       "  <thead>\n",
       "    <tr style=\"text-align: right;\">\n",
       "      <th></th>\n",
       "      <th>TOTAL_ROOMS</th>\n",
       "      <th>PRICE</th>\n",
       "    </tr>\n",
       "  </thead>\n",
       "  <tbody>\n",
       "    <tr>\n",
       "      <th>TOTAL_ROOMS</th>\n",
       "      <td>1.00</td>\n",
       "      <td>0.52</td>\n",
       "    </tr>\n",
       "    <tr>\n",
       "      <th>PRICE</th>\n",
       "      <td>0.52</td>\n",
       "      <td>1.00</td>\n",
       "    </tr>\n",
       "  </tbody>\n",
       "</table>\n",
       "</div>\n",
       "    <div class=\"colab-df-buttons\">\n",
       "\n",
       "  <div class=\"colab-df-container\">\n",
       "    <button class=\"colab-df-convert\" onclick=\"convertToInteractive('df-77ab20a3-0fa5-4155-a4dd-8bc79372baa6')\"\n",
       "            title=\"Convert this dataframe to an interactive table.\"\n",
       "            style=\"display:none;\">\n",
       "\n",
       "  <svg xmlns=\"http://www.w3.org/2000/svg\" height=\"24px\" viewBox=\"0 -960 960 960\">\n",
       "    <path d=\"M120-120v-720h720v720H120Zm60-500h600v-160H180v160Zm220 220h160v-160H400v160Zm0 220h160v-160H400v160ZM180-400h160v-160H180v160Zm440 0h160v-160H620v160ZM180-180h160v-160H180v160Zm440 0h160v-160H620v160Z\"/>\n",
       "  </svg>\n",
       "    </button>\n",
       "\n",
       "  <style>\n",
       "    .colab-df-container {\n",
       "      display:flex;\n",
       "      gap: 12px;\n",
       "    }\n",
       "\n",
       "    .colab-df-convert {\n",
       "      background-color: #E8F0FE;\n",
       "      border: none;\n",
       "      border-radius: 50%;\n",
       "      cursor: pointer;\n",
       "      display: none;\n",
       "      fill: #1967D2;\n",
       "      height: 32px;\n",
       "      padding: 0 0 0 0;\n",
       "      width: 32px;\n",
       "    }\n",
       "\n",
       "    .colab-df-convert:hover {\n",
       "      background-color: #E2EBFA;\n",
       "      box-shadow: 0px 1px 2px rgba(60, 64, 67, 0.3), 0px 1px 3px 1px rgba(60, 64, 67, 0.15);\n",
       "      fill: #174EA6;\n",
       "    }\n",
       "\n",
       "    .colab-df-buttons div {\n",
       "      margin-bottom: 4px;\n",
       "    }\n",
       "\n",
       "    [theme=dark] .colab-df-convert {\n",
       "      background-color: #3B4455;\n",
       "      fill: #D2E3FC;\n",
       "    }\n",
       "\n",
       "    [theme=dark] .colab-df-convert:hover {\n",
       "      background-color: #434B5C;\n",
       "      box-shadow: 0px 1px 3px 1px rgba(0, 0, 0, 0.15);\n",
       "      filter: drop-shadow(0px 1px 2px rgba(0, 0, 0, 0.3));\n",
       "      fill: #FFFFFF;\n",
       "    }\n",
       "  </style>\n",
       "\n",
       "    <script>\n",
       "      const buttonEl =\n",
       "        document.querySelector('#df-77ab20a3-0fa5-4155-a4dd-8bc79372baa6 button.colab-df-convert');\n",
       "      buttonEl.style.display =\n",
       "        google.colab.kernel.accessAllowed ? 'block' : 'none';\n",
       "\n",
       "      async function convertToInteractive(key) {\n",
       "        const element = document.querySelector('#df-77ab20a3-0fa5-4155-a4dd-8bc79372baa6');\n",
       "        const dataTable =\n",
       "          await google.colab.kernel.invokeFunction('convertToInteractive',\n",
       "                                                    [key], {});\n",
       "        if (!dataTable) return;\n",
       "\n",
       "        const docLinkHtml = 'Like what you see? Visit the ' +\n",
       "          '<a target=\"_blank\" href=https://colab.research.google.com/notebooks/data_table.ipynb>data table notebook</a>'\n",
       "          + ' to learn more about interactive tables.';\n",
       "        element.innerHTML = '';\n",
       "        dataTable['output_type'] = 'display_data';\n",
       "        await google.colab.output.renderOutput(dataTable, element);\n",
       "        const docLink = document.createElement('div');\n",
       "        docLink.innerHTML = docLinkHtml;\n",
       "        element.appendChild(docLink);\n",
       "      }\n",
       "    </script>\n",
       "  </div>\n",
       "\n",
       "\n",
       "<div id=\"df-5af05ef6-f5f1-4e03-80f9-a6b3d7ae0cb8\">\n",
       "  <button class=\"colab-df-quickchart\" onclick=\"quickchart('df-5af05ef6-f5f1-4e03-80f9-a6b3d7ae0cb8')\"\n",
       "            title=\"Suggest charts\"\n",
       "            style=\"display:none;\">\n",
       "\n",
       "<svg xmlns=\"http://www.w3.org/2000/svg\" height=\"24px\"viewBox=\"0 0 24 24\"\n",
       "     width=\"24px\">\n",
       "    <g>\n",
       "        <path d=\"M19 3H5c-1.1 0-2 .9-2 2v14c0 1.1.9 2 2 2h14c1.1 0 2-.9 2-2V5c0-1.1-.9-2-2-2zM9 17H7v-7h2v7zm4 0h-2V7h2v10zm4 0h-2v-4h2v4z\"/>\n",
       "    </g>\n",
       "</svg>\n",
       "  </button>\n",
       "\n",
       "<style>\n",
       "  .colab-df-quickchart {\n",
       "      --bg-color: #E8F0FE;\n",
       "      --fill-color: #1967D2;\n",
       "      --hover-bg-color: #E2EBFA;\n",
       "      --hover-fill-color: #174EA6;\n",
       "      --disabled-fill-color: #AAA;\n",
       "      --disabled-bg-color: #DDD;\n",
       "  }\n",
       "\n",
       "  [theme=dark] .colab-df-quickchart {\n",
       "      --bg-color: #3B4455;\n",
       "      --fill-color: #D2E3FC;\n",
       "      --hover-bg-color: #434B5C;\n",
       "      --hover-fill-color: #FFFFFF;\n",
       "      --disabled-bg-color: #3B4455;\n",
       "      --disabled-fill-color: #666;\n",
       "  }\n",
       "\n",
       "  .colab-df-quickchart {\n",
       "    background-color: var(--bg-color);\n",
       "    border: none;\n",
       "    border-radius: 50%;\n",
       "    cursor: pointer;\n",
       "    display: none;\n",
       "    fill: var(--fill-color);\n",
       "    height: 32px;\n",
       "    padding: 0;\n",
       "    width: 32px;\n",
       "  }\n",
       "\n",
       "  .colab-df-quickchart:hover {\n",
       "    background-color: var(--hover-bg-color);\n",
       "    box-shadow: 0 1px 2px rgba(60, 64, 67, 0.3), 0 1px 3px 1px rgba(60, 64, 67, 0.15);\n",
       "    fill: var(--button-hover-fill-color);\n",
       "  }\n",
       "\n",
       "  .colab-df-quickchart-complete:disabled,\n",
       "  .colab-df-quickchart-complete:disabled:hover {\n",
       "    background-color: var(--disabled-bg-color);\n",
       "    fill: var(--disabled-fill-color);\n",
       "    box-shadow: none;\n",
       "  }\n",
       "\n",
       "  .colab-df-spinner {\n",
       "    border: 2px solid var(--fill-color);\n",
       "    border-color: transparent;\n",
       "    border-bottom-color: var(--fill-color);\n",
       "    animation:\n",
       "      spin 1s steps(1) infinite;\n",
       "  }\n",
       "\n",
       "  @keyframes spin {\n",
       "    0% {\n",
       "      border-color: transparent;\n",
       "      border-bottom-color: var(--fill-color);\n",
       "      border-left-color: var(--fill-color);\n",
       "    }\n",
       "    20% {\n",
       "      border-color: transparent;\n",
       "      border-left-color: var(--fill-color);\n",
       "      border-top-color: var(--fill-color);\n",
       "    }\n",
       "    30% {\n",
       "      border-color: transparent;\n",
       "      border-left-color: var(--fill-color);\n",
       "      border-top-color: var(--fill-color);\n",
       "      border-right-color: var(--fill-color);\n",
       "    }\n",
       "    40% {\n",
       "      border-color: transparent;\n",
       "      border-right-color: var(--fill-color);\n",
       "      border-top-color: var(--fill-color);\n",
       "    }\n",
       "    60% {\n",
       "      border-color: transparent;\n",
       "      border-right-color: var(--fill-color);\n",
       "    }\n",
       "    80% {\n",
       "      border-color: transparent;\n",
       "      border-right-color: var(--fill-color);\n",
       "      border-bottom-color: var(--fill-color);\n",
       "    }\n",
       "    90% {\n",
       "      border-color: transparent;\n",
       "      border-bottom-color: var(--fill-color);\n",
       "    }\n",
       "  }\n",
       "</style>\n",
       "\n",
       "  <script>\n",
       "    async function quickchart(key) {\n",
       "      const quickchartButtonEl =\n",
       "        document.querySelector('#' + key + ' button');\n",
       "      quickchartButtonEl.disabled = true;  // To prevent multiple clicks.\n",
       "      quickchartButtonEl.classList.add('colab-df-spinner');\n",
       "      try {\n",
       "        const charts = await google.colab.kernel.invokeFunction(\n",
       "            'suggestCharts', [key], {});\n",
       "      } catch (error) {\n",
       "        console.error('Error during call to suggestCharts:', error);\n",
       "      }\n",
       "      quickchartButtonEl.classList.remove('colab-df-spinner');\n",
       "      quickchartButtonEl.classList.add('colab-df-quickchart-complete');\n",
       "    }\n",
       "    (() => {\n",
       "      let quickchartButtonEl =\n",
       "        document.querySelector('#df-5af05ef6-f5f1-4e03-80f9-a6b3d7ae0cb8 button');\n",
       "      quickchartButtonEl.style.display =\n",
       "        google.colab.kernel.accessAllowed ? 'block' : 'none';\n",
       "    })();\n",
       "  </script>\n",
       "</div>\n",
       "\n",
       "    </div>\n",
       "  </div>\n"
      ],
      "text/plain": [
       "             TOTAL_ROOMS  PRICE\n",
       "TOTAL_ROOMS         1.00   0.52\n",
       "PRICE               0.52   1.00"
      ]
     },
     "execution_count": 42,
     "metadata": {},
     "output_type": "execute_result"
    }
   ],
   "source": [
    "# lets check the correlation between Total space and Price\n",
    "cleaned_data[['TOTAL_ROOMS','PRICE']].corr()"
   ]
  },
  {
   "cell_type": "markdown",
   "metadata": {
    "id": "EhnHr0blBwro"
   },
   "source": [
    "* As expected, there is a positive correlation between Total Space and Price."
   ]
  },
  {
   "cell_type": "markdown",
   "metadata": {
    "id": "bH1Z559QroOZ"
   },
   "source": [
    "**The price of properties vary based on the type of the property. For example, a villa may be priced higher than a duplex because of more amenities. Let's see which type of property is priced higher.**"
   ]
  },
  {
   "cell_type": "code",
   "execution_count": 43,
   "metadata": {
    "colab": {
     "base_uri": "https://localhost:8080/",
     "height": 480
    },
    "id": "NAWsl0n2rc74",
    "outputId": "8e34b1d4-79d8-4c86-fdb9-9b0c26c541df"
   },
   "outputs": [
    {
     "data": {
      "image/png": "[encoded data removed]",
      "text/plain": [
       "<Figure size 1000x500 with 1 Axes>"
      ]
     },
     "metadata": {},
     "output_type": "display_data"
    }
   ],
   "source": [
    "plt.figure(figsize=(10,5))\n",
    "sns.boxplot(data=cleaned_data,x='TYPE',y='PRICE',showfliers=False) # turning off outliers\n",
    "\n",
    "plt.show()"
   ]
  },
  {
   "cell_type": "markdown",
   "metadata": {
    "id": "t33ijNWCreh0"
   },
   "source": [
    "* The properties like villa, cottage, etc have a higher median price as compared to a townhouse and a duplex.\n",
    "* The townhouses have a higher median price than unit, duplex properties.\n",
    "* Customers planning to buy 'h' type property might have to invest more."
   ]
  },
  {
   "cell_type": "markdown",
   "metadata": {
    "id": "V_wgsd9vsiiS"
   },
   "source": [
    "**Similarly the region of the property will play an integral role in deciding the selling price. Let' do a similar analysis with regions as well**"
   ]
  },
  {
   "cell_type": "code",
   "execution_count": 44,
   "metadata": {
    "colab": {
     "base_uri": "https://localhost:8080/",
     "height": 563
    },
    "id": "dmhtEvgvs6VQ",
    "outputId": "59d7bb39-df3e-401d-ed4f-38f3e3928cff"
   },
   "outputs": [
    {
     "data": {
      "image/png": "[encoded data removed]",
      "text/plain": [
       "<Figure size 1000x500 with 1 Axes>"
      ]
     },
     "metadata": {},
     "output_type": "display_data"
    }
   ],
   "source": [
    "plt.figure(figsize=(10,5))\n",
    "sns.boxplot(data=cleaned_data,x='SUBLOCALITY',y='PRICE',showfliers=False) # turning off outliers\n",
    "plt.xticks(rotation=45)\n",
    "plt.show()"
   ]
  },
  {
   "cell_type": "markdown",
   "metadata": {
    "id": "OKwDi0-CtAKP"
   },
   "source": [
    "* The Bronx, Staten Island and Queens have the lowest prices."
   ]
  },
  {
   "cell_type": "code",
   "execution_count": 45,
   "metadata": {
    "colab": {
     "base_uri": "https://localhost:8080/",
     "height": 1000
    },
    "id": "8xotQYE_1S_m",
    "outputId": "f0121d80-f799-499a-c59b-f81264245cde"
   },
   "outputs": [
    {
     "data": {
      "application/vnd.google.colaboratory.intrinsic+json": {
       "summary": "{\n  \"name\": \"cleaned_data\",\n  \"rows\": 49,\n  \"fields\": [\n    {\n      \"column\": \"BEDS\",\n      \"properties\": {\n        \"dtype\": \"number\",\n        \"std\": 0.8997160708204297,\n        \"min\": 1.0,\n        \"max\": 4.766666666666667,\n        \"num_unique_values\": 36,\n        \"samples\": [\n          1.7131782945736433,\n          1.3333333333333333,\n          3.283333333333333\n        ],\n        \"semantic_type\": \"\",\n        \"description\": \"\"\n      }\n    },\n    {\n      \"column\": \"BATH\",\n      \"properties\": {\n        \"dtype\": \"number\",\n        \"std\": 0.5262699832758371,\n        \"min\": 1.0,\n        \"max\": 3.0,\n        \"num_unique_values\": 37,\n        \"samples\": [\n          1.2930428984218716,\n          2.665279463812471,\n          2.595643476328073\n        ],\n        \"semantic_type\": \"\",\n        \"description\": \"\"\n      }\n    },\n    {\n      \"column\": \"PROPERTYSQFT\",\n      \"properties\": {\n        \"dtype\": \"number\",\n        \"std\": 426.5969750528887,\n        \"min\": 890.75,\n        \"max\": 2500.0,\n        \"num_unique_values\": 44,\n        \"samples\": [\n          955.1261635428571,\n          1242.2428100338984,\n          1610.8300113865032\n        ],\n        \"semantic_type\": \"\",\n        \"description\": \"\"\n      }\n    },\n    {\n      \"column\": \"PRICE\",\n      \"properties\": {\n        \"dtype\": \"number\",\n        \"std\": 203320.04798671918,\n        \"min\": 5800.0,\n        \"max\": 950000.0,\n        \"num_unique_values\": 49,\n        \"samples\": [\n          708557.984,\n          394698.0740740741,\n          638000.0\n        ],\n        \"semantic_type\": \"\",\n        \"description\": \"\"\n      }\n    }\n  ]\n}",
       "type": "dataframe"
      },
      "text/html": [
       "\n",
       "  <div id=\"df-4d28fd5f-e9c1-4c3d-b04f-f9e9426304cf\" class=\"colab-df-container\">\n",
       "    <div>\n",
       "<style scoped>\n",
       "    .dataframe tbody tr th:only-of-type {\n",
       "        vertical-align: middle;\n",
       "    }\n",
       "\n",
       "    .dataframe tbody tr th {\n",
       "        vertical-align: top;\n",
       "    }\n",
       "\n",
       "    .dataframe thead th {\n",
       "        text-align: right;\n",
       "    }\n",
       "</style>\n",
       "<table border=\"1\" class=\"dataframe\">\n",
       "  <thead>\n",
       "    <tr style=\"text-align: right;\">\n",
       "      <th></th>\n",
       "      <th></th>\n",
       "      <th>BEDS</th>\n",
       "      <th>BATH</th>\n",
       "      <th>PROPERTYSQFT</th>\n",
       "      <th>PRICE</th>\n",
       "    </tr>\n",
       "    <tr>\n",
       "      <th>SUBLOCALITY</th>\n",
       "      <th>TYPE</th>\n",
       "      <th></th>\n",
       "      <th></th>\n",
       "      <th></th>\n",
       "      <th></th>\n",
       "    </tr>\n",
       "  </thead>\n",
       "  <tbody>\n",
       "    <tr>\n",
       "      <th rowspan=\"6\" valign=\"top\">Bronx County</th>\n",
       "      <th>Condo</th>\n",
       "      <td>1.88</td>\n",
       "      <td>1.67</td>\n",
       "      <td>890.75</td>\n",
       "      <td>324736.00</td>\n",
       "    </tr>\n",
       "    <tr>\n",
       "      <th>Coop</th>\n",
       "      <td>2.00</td>\n",
       "      <td>1.36</td>\n",
       "      <td>1033.80</td>\n",
       "      <td>257278.57</td>\n",
       "    </tr>\n",
       "    <tr>\n",
       "      <th>House</th>\n",
       "      <td>3.28</td>\n",
       "      <td>2.08</td>\n",
       "      <td>1690.40</td>\n",
       "      <td>607759.26</td>\n",
       "    </tr>\n",
       "    <tr>\n",
       "      <th>Land</th>\n",
       "      <td>3.00</td>\n",
       "      <td>2.37</td>\n",
       "      <td>2184.21</td>\n",
       "      <td>380600.00</td>\n",
       "    </tr>\n",
       "    <tr>\n",
       "      <th>Multi-family</th>\n",
       "      <td>4.77</td>\n",
       "      <td>2.60</td>\n",
       "      <td>2108.24</td>\n",
       "      <td>781782.83</td>\n",
       "    </tr>\n",
       "    <tr>\n",
       "      <th>Townhouse</th>\n",
       "      <td>3.20</td>\n",
       "      <td>2.42</td>\n",
       "      <td>1736.24</td>\n",
       "      <td>695000.00</td>\n",
       "    </tr>\n",
       "    <tr>\n",
       "      <th rowspan=\"5\" valign=\"top\">Brooklyn</th>\n",
       "      <th>Condo</th>\n",
       "      <td>2.04</td>\n",
       "      <td>1.48</td>\n",
       "      <td>996.20</td>\n",
       "      <td>632140.53</td>\n",
       "    </tr>\n",
       "    <tr>\n",
       "      <th>Coop</th>\n",
       "      <td>1.68</td>\n",
       "      <td>1.11</td>\n",
       "      <td>1117.11</td>\n",
       "      <td>392682.46</td>\n",
       "    </tr>\n",
       "    <tr>\n",
       "      <th>House</th>\n",
       "      <td>3.33</td>\n",
       "      <td>2.33</td>\n",
       "      <td>2216.14</td>\n",
       "      <td>733333.33</td>\n",
       "    </tr>\n",
       "    <tr>\n",
       "      <th>Land</th>\n",
       "      <td>3.00</td>\n",
       "      <td>2.37</td>\n",
       "      <td>2184.21</td>\n",
       "      <td>5800.00</td>\n",
       "    </tr>\n",
       "    <tr>\n",
       "      <th>Townhouse</th>\n",
       "      <td>2.00</td>\n",
       "      <td>1.50</td>\n",
       "      <td>1515.10</td>\n",
       "      <td>597500.00</td>\n",
       "    </tr>\n",
       "    <tr>\n",
       "      <th rowspan=\"6\" valign=\"top\">Kings County</th>\n",
       "      <th>Condo</th>\n",
       "      <td>2.15</td>\n",
       "      <td>1.67</td>\n",
       "      <td>1250.28</td>\n",
       "      <td>593153.85</td>\n",
       "    </tr>\n",
       "    <tr>\n",
       "      <th>Coop</th>\n",
       "      <td>2.00</td>\n",
       "      <td>1.31</td>\n",
       "      <td>1486.62</td>\n",
       "      <td>438076.92</td>\n",
       "    </tr>\n",
       "    <tr>\n",
       "      <th>House</th>\n",
       "      <td>3.18</td>\n",
       "      <td>2.07</td>\n",
       "      <td>1675.72</td>\n",
       "      <td>708557.98</td>\n",
       "    </tr>\n",
       "    <tr>\n",
       "      <th>Land</th>\n",
       "      <td>3.00</td>\n",
       "      <td>2.37</td>\n",
       "      <td>2184.21</td>\n",
       "      <td>512571.29</td>\n",
       "    </tr>\n",
       "    <tr>\n",
       "      <th>Multi-family</th>\n",
       "      <td>4.22</td>\n",
       "      <td>2.67</td>\n",
       "      <td>2046.74</td>\n",
       "      <td>794785.91</td>\n",
       "    </tr>\n",
       "    <tr>\n",
       "      <th>Townhouse</th>\n",
       "      <td>3.82</td>\n",
       "      <td>1.94</td>\n",
       "      <td>1982.26</td>\n",
       "      <td>799544.09</td>\n",
       "    </tr>\n",
       "    <tr>\n",
       "      <th rowspan=\"2\" valign=\"top\">Manhattan</th>\n",
       "      <th>Condo</th>\n",
       "      <td>1.33</td>\n",
       "      <td>1.33</td>\n",
       "      <td>1421.07</td>\n",
       "      <td>608000.00</td>\n",
       "    </tr>\n",
       "    <tr>\n",
       "      <th>Coop</th>\n",
       "      <td>1.00</td>\n",
       "      <td>1.00</td>\n",
       "      <td>2184.21</td>\n",
       "      <td>612000.00</td>\n",
       "    </tr>\n",
       "    <tr>\n",
       "      <th rowspan=\"5\" valign=\"top\">New York</th>\n",
       "      <th>Condo</th>\n",
       "      <td>2.03</td>\n",
       "      <td>1.29</td>\n",
       "      <td>1036.17</td>\n",
       "      <td>695835.32</td>\n",
       "    </tr>\n",
       "    <tr>\n",
       "      <th>Coop</th>\n",
       "      <td>1.89</td>\n",
       "      <td>1.18</td>\n",
       "      <td>1674.16</td>\n",
       "      <td>595372.95</td>\n",
       "    </tr>\n",
       "    <tr>\n",
       "      <th>House</th>\n",
       "      <td>2.67</td>\n",
       "      <td>1.76</td>\n",
       "      <td>1373.97</td>\n",
       "      <td>755845.80</td>\n",
       "    </tr>\n",
       "    <tr>\n",
       "      <th>Land</th>\n",
       "      <td>3.00</td>\n",
       "      <td>2.37</td>\n",
       "      <td>2184.21</td>\n",
       "      <td>137000.00</td>\n",
       "    </tr>\n",
       "    <tr>\n",
       "      <th>Multi-family</th>\n",
       "      <td>3.83</td>\n",
       "      <td>2.33</td>\n",
       "      <td>1575.03</td>\n",
       "      <td>745000.00</td>\n",
       "    </tr>\n",
       "    <tr>\n",
       "      <th rowspan=\"4\" valign=\"top\">New York County</th>\n",
       "      <th>Condo</th>\n",
       "      <td>2.38</td>\n",
       "      <td>1.42</td>\n",
       "      <td>1140.43</td>\n",
       "      <td>581625.00</td>\n",
       "    </tr>\n",
       "    <tr>\n",
       "      <th>Coop</th>\n",
       "      <td>1.58</td>\n",
       "      <td>1.25</td>\n",
       "      <td>1711.62</td>\n",
       "      <td>604625.00</td>\n",
       "    </tr>\n",
       "    <tr>\n",
       "      <th>Multi-family</th>\n",
       "      <td>3.00</td>\n",
       "      <td>2.37</td>\n",
       "      <td>2500.00</td>\n",
       "      <td>950000.00</td>\n",
       "    </tr>\n",
       "    <tr>\n",
       "      <th>Townhouse</th>\n",
       "      <td>4.00</td>\n",
       "      <td>2.00</td>\n",
       "      <td>1440.00</td>\n",
       "      <td>795000.00</td>\n",
       "    </tr>\n",
       "    <tr>\n",
       "      <th rowspan=\"3\" valign=\"top\">Queens</th>\n",
       "      <th>Condo</th>\n",
       "      <td>1.97</td>\n",
       "      <td>1.58</td>\n",
       "      <td>1242.24</td>\n",
       "      <td>609335.58</td>\n",
       "    </tr>\n",
       "    <tr>\n",
       "      <th>Coop</th>\n",
       "      <td>1.82</td>\n",
       "      <td>1.23</td>\n",
       "      <td>1610.83</td>\n",
       "      <td>352430.81</td>\n",
       "    </tr>\n",
       "    <tr>\n",
       "      <th>House</th>\n",
       "      <td>4.00</td>\n",
       "      <td>2.00</td>\n",
       "      <td>1400.00</td>\n",
       "      <td>899000.00</td>\n",
       "    </tr>\n",
       "    <tr>\n",
       "      <th rowspan=\"6\" valign=\"top\">Queens County</th>\n",
       "      <th>Condo</th>\n",
       "      <td>1.85</td>\n",
       "      <td>1.67</td>\n",
       "      <td>1424.16</td>\n",
       "      <td>596434.15</td>\n",
       "    </tr>\n",
       "    <tr>\n",
       "      <th>Coop</th>\n",
       "      <td>1.80</td>\n",
       "      <td>1.09</td>\n",
       "      <td>1805.36</td>\n",
       "      <td>330988.57</td>\n",
       "    </tr>\n",
       "    <tr>\n",
       "      <th>House</th>\n",
       "      <td>3.28</td>\n",
       "      <td>2.12</td>\n",
       "      <td>1890.81</td>\n",
       "      <td>744086.65</td>\n",
       "    </tr>\n",
       "    <tr>\n",
       "      <th>Land</th>\n",
       "      <td>3.00</td>\n",
       "      <td>2.30</td>\n",
       "      <td>1937.37</td>\n",
       "      <td>576800.00</td>\n",
       "    </tr>\n",
       "    <tr>\n",
       "      <th>Multi-family</th>\n",
       "      <td>4.44</td>\n",
       "      <td>2.64</td>\n",
       "      <td>2074.88</td>\n",
       "      <td>798938.04</td>\n",
       "    </tr>\n",
       "    <tr>\n",
       "      <th>Townhouse</th>\n",
       "      <td>2.86</td>\n",
       "      <td>2.00</td>\n",
       "      <td>1694.13</td>\n",
       "      <td>838071.43</td>\n",
       "    </tr>\n",
       "    <tr>\n",
       "      <th rowspan=\"5\" valign=\"top\">Richmond County</th>\n",
       "      <th>Condo</th>\n",
       "      <td>2.00</td>\n",
       "      <td>1.85</td>\n",
       "      <td>1196.36</td>\n",
       "      <td>467263.64</td>\n",
       "    </tr>\n",
       "    <tr>\n",
       "      <th>House</th>\n",
       "      <td>3.16</td>\n",
       "      <td>2.10</td>\n",
       "      <td>1515.51</td>\n",
       "      <td>672799.33</td>\n",
       "    </tr>\n",
       "    <tr>\n",
       "      <th>Land</th>\n",
       "      <td>3.00</td>\n",
       "      <td>2.37</td>\n",
       "      <td>2184.21</td>\n",
       "      <td>336983.33</td>\n",
       "    </tr>\n",
       "    <tr>\n",
       "      <th>Multi-family</th>\n",
       "      <td>3.78</td>\n",
       "      <td>2.70</td>\n",
       "      <td>2064.89</td>\n",
       "      <td>800733.33</td>\n",
       "    </tr>\n",
       "    <tr>\n",
       "      <th>Townhouse</th>\n",
       "      <td>2.64</td>\n",
       "      <td>2.09</td>\n",
       "      <td>1488.93</td>\n",
       "      <td>544042.48</td>\n",
       "    </tr>\n",
       "    <tr>\n",
       "      <th rowspan=\"3\" valign=\"top\">Staten Island</th>\n",
       "      <th>Condo</th>\n",
       "      <td>1.74</td>\n",
       "      <td>1.29</td>\n",
       "      <td>955.13</td>\n",
       "      <td>371430.43</td>\n",
       "    </tr>\n",
       "    <tr>\n",
       "      <th>Coop</th>\n",
       "      <td>1.60</td>\n",
       "      <td>1.00</td>\n",
       "      <td>944.80</td>\n",
       "      <td>311900.00</td>\n",
       "    </tr>\n",
       "    <tr>\n",
       "      <th>Townhouse</th>\n",
       "      <td>3.00</td>\n",
       "      <td>2.00</td>\n",
       "      <td>1677.00</td>\n",
       "      <td>549999.00</td>\n",
       "    </tr>\n",
       "    <tr>\n",
       "      <th rowspan=\"4\" valign=\"top\">The Bronx</th>\n",
       "      <th>Condo</th>\n",
       "      <td>2.11</td>\n",
       "      <td>1.56</td>\n",
       "      <td>1102.77</td>\n",
       "      <td>394698.07</td>\n",
       "    </tr>\n",
       "    <tr>\n",
       "      <th>Coop</th>\n",
       "      <td>1.71</td>\n",
       "      <td>1.19</td>\n",
       "      <td>1174.45</td>\n",
       "      <td>262961.57</td>\n",
       "    </tr>\n",
       "    <tr>\n",
       "      <th>House</th>\n",
       "      <td>3.00</td>\n",
       "      <td>2.00</td>\n",
       "      <td>1728.00</td>\n",
       "      <td>638000.00</td>\n",
       "    </tr>\n",
       "    <tr>\n",
       "      <th>Townhouse</th>\n",
       "      <td>4.00</td>\n",
       "      <td>3.00</td>\n",
       "      <td>2160.00</td>\n",
       "      <td>588000.00</td>\n",
       "    </tr>\n",
       "  </tbody>\n",
       "</table>\n",
       "</div>\n",
       "    <div class=\"colab-df-buttons\">\n",
       "\n",
       "  <div class=\"colab-df-container\">\n",
       "    <button class=\"colab-df-convert\" onclick=\"convertToInteractive('df-4d28fd5f-e9c1-4c3d-b04f-f9e9426304cf')\"\n",
       "            title=\"Convert this dataframe to an interactive table.\"\n",
       "            style=\"display:none;\">\n",
       "\n",
       "  <svg xmlns=\"http://www.w3.org/2000/svg\" height=\"24px\" viewBox=\"0 -960 960 960\">\n",
       "    <path d=\"M120-120v-720h720v720H120Zm60-500h600v-160H180v160Zm220 220h160v-160H400v160Zm0 220h160v-160H400v160ZM180-400h160v-160H180v160Zm440 0h160v-160H620v160ZM180-180h160v-160H180v160Zm440 0h160v-160H620v160Z\"/>\n",
       "  </svg>\n",
       "    </button>\n",
       "\n",
       "  <style>\n",
       "    .colab-df-container {\n",
       "      display:flex;\n",
       "      gap: 12px;\n",
       "    }\n",
       "\n",
       "    .colab-df-convert {\n",
       "      background-color: #E8F0FE;\n",
       "      border: none;\n",
       "      border-radius: 50%;\n",
       "      cursor: pointer;\n",
       "      display: none;\n",
       "      fill: #1967D2;\n",
       "      height: 32px;\n",
       "      padding: 0 0 0 0;\n",
       "      width: 32px;\n",
       "    }\n",
       "\n",
       "    .colab-df-convert:hover {\n",
       "      background-color: #E2EBFA;\n",
       "      box-shadow: 0px 1px 2px rgba(60, 64, 67, 0.3), 0px 1px 3px 1px rgba(60, 64, 67, 0.15);\n",
       "      fill: #174EA6;\n",
       "    }\n",
       "\n",
       "    .colab-df-buttons div {\n",
       "      margin-bottom: 4px;\n",
       "    }\n",
       "\n",
       "    [theme=dark] .colab-df-convert {\n",
       "      background-color: #3B4455;\n",
       "      fill: #D2E3FC;\n",
       "    }\n",
       "\n",
       "    [theme=dark] .colab-df-convert:hover {\n",
       "      background-color: #434B5C;\n",
       "      box-shadow: 0px 1px 3px 1px rgba(0, 0, 0, 0.15);\n",
       "      filter: drop-shadow(0px 1px 2px rgba(0, 0, 0, 0.3));\n",
       "      fill: #FFFFFF;\n",
       "    }\n",
       "  </style>\n",
       "\n",
       "    <script>\n",
       "      const buttonEl =\n",
       "        document.querySelector('#df-4d28fd5f-e9c1-4c3d-b04f-f9e9426304cf button.colab-df-convert');\n",
       "      buttonEl.style.display =\n",
       "        google.colab.kernel.accessAllowed ? 'block' : 'none';\n",
       "\n",
       "      async function convertToInteractive(key) {\n",
       "        const element = document.querySelector('#df-4d28fd5f-e9c1-4c3d-b04f-f9e9426304cf');\n",
       "        const dataTable =\n",
       "          await google.colab.kernel.invokeFunction('convertToInteractive',\n",
       "                                                    [key], {});\n",
       "        if (!dataTable) return;\n",
       "\n",
       "        const docLinkHtml = 'Like what you see? Visit the ' +\n",
       "          '<a target=\"_blank\" href=https://colab.research.google.com/notebooks/data_table.ipynb>data table notebook</a>'\n",
       "          + ' to learn more about interactive tables.';\n",
       "        element.innerHTML = '';\n",
       "        dataTable['output_type'] = 'display_data';\n",
       "        await google.colab.output.renderOutput(dataTable, element);\n",
       "        const docLink = document.createElement('div');\n",
       "        docLink.innerHTML = docLinkHtml;\n",
       "        element.appendChild(docLink);\n",
       "      }\n",
       "    </script>\n",
       "  </div>\n",
       "\n",
       "\n",
       "<div id=\"df-ce6b30a4-acf5-4b0d-8b5e-9346e01135cb\">\n",
       "  <button class=\"colab-df-quickchart\" onclick=\"quickchart('df-ce6b30a4-acf5-4b0d-8b5e-9346e01135cb')\"\n",
       "            title=\"Suggest charts\"\n",
       "            style=\"display:none;\">\n",
       "\n",
       "<svg xmlns=\"http://www.w3.org/2000/svg\" height=\"24px\"viewBox=\"0 0 24 24\"\n",
       "     width=\"24px\">\n",
       "    <g>\n",
       "        <path d=\"M19 3H5c-1.1 0-2 .9-2 2v14c0 1.1.9 2 2 2h14c1.1 0 2-.9 2-2V5c0-1.1-.9-2-2-2zM9 17H7v-7h2v7zm4 0h-2V7h2v10zm4 0h-2v-4h2v4z\"/>\n",
       "    </g>\n",
       "</svg>\n",
       "  </button>\n",
       "\n",
       "<style>\n",
       "  .colab-df-quickchart {\n",
       "      --bg-color: #E8F0FE;\n",
       "      --fill-color: #1967D2;\n",
       "      --hover-bg-color: #E2EBFA;\n",
       "      --hover-fill-color: #174EA6;\n",
       "      --disabled-fill-color: #AAA;\n",
       "      --disabled-bg-color: #DDD;\n",
       "  }\n",
       "\n",
       "  [theme=dark] .colab-df-quickchart {\n",
       "      --bg-color: #3B4455;\n",
       "      --fill-color: #D2E3FC;\n",
       "      --hover-bg-color: #434B5C;\n",
       "      --hover-fill-color: #FFFFFF;\n",
       "      --disabled-bg-color: #3B4455;\n",
       "      --disabled-fill-color: #666;\n",
       "  }\n",
       "\n",
       "  .colab-df-quickchart {\n",
       "    background-color: var(--bg-color);\n",
       "    border: none;\n",
       "    border-radius: 50%;\n",
       "    cursor: pointer;\n",
       "    display: none;\n",
       "    fill: var(--fill-color);\n",
       "    height: 32px;\n",
       "    padding: 0;\n",
       "    width: 32px;\n",
       "  }\n",
       "\n",
       "  .colab-df-quickchart:hover {\n",
       "    background-color: var(--hover-bg-color);\n",
       "    box-shadow: 0 1px 2px rgba(60, 64, 67, 0.3), 0 1px 3px 1px rgba(60, 64, 67, 0.15);\n",
       "    fill: var(--button-hover-fill-color);\n",
       "  }\n",
       "\n",
       "  .colab-df-quickchart-complete:disabled,\n",
       "  .colab-df-quickchart-complete:disabled:hover {\n",
       "    background-color: var(--disabled-bg-color);\n",
       "    fill: var(--disabled-fill-color);\n",
       "    box-shadow: none;\n",
       "  }\n",
       "\n",
       "  .colab-df-spinner {\n",
       "    border: 2px solid var(--fill-color);\n",
       "    border-color: transparent;\n",
       "    border-bottom-color: var(--fill-color);\n",
       "    animation:\n",
       "      spin 1s steps(1) infinite;\n",
       "  }\n",
       "\n",
       "  @keyframes spin {\n",
       "    0% {\n",
       "      border-color: transparent;\n",
       "      border-bottom-color: var(--fill-color);\n",
       "      border-left-color: var(--fill-color);\n",
       "    }\n",
       "    20% {\n",
       "      border-color: transparent;\n",
       "      border-left-color: var(--fill-color);\n",
       "      border-top-color: var(--fill-color);\n",
       "    }\n",
       "    30% {\n",
       "      border-color: transparent;\n",
       "      border-left-color: var(--fill-color);\n",
       "      border-top-color: var(--fill-color);\n",
       "      border-right-color: var(--fill-color);\n",
       "    }\n",
       "    40% {\n",
       "      border-color: transparent;\n",
       "      border-right-color: var(--fill-color);\n",
       "      border-top-color: var(--fill-color);\n",
       "    }\n",
       "    60% {\n",
       "      border-color: transparent;\n",
       "      border-right-color: var(--fill-color);\n",
       "    }\n",
       "    80% {\n",
       "      border-color: transparent;\n",
       "      border-right-color: var(--fill-color);\n",
       "      border-bottom-color: var(--fill-color);\n",
       "    }\n",
       "    90% {\n",
       "      border-color: transparent;\n",
       "      border-bottom-color: var(--fill-color);\n",
       "    }\n",
       "  }\n",
       "</style>\n",
       "\n",
       "  <script>\n",
       "    async function quickchart(key) {\n",
       "      const quickchartButtonEl =\n",
       "        document.querySelector('#' + key + ' button');\n",
       "      quickchartButtonEl.disabled = true;  // To prevent multiple clicks.\n",
       "      quickchartButtonEl.classList.add('colab-df-spinner');\n",
       "      try {\n",
       "        const charts = await google.colab.kernel.invokeFunction(\n",
       "            'suggestCharts', [key], {});\n",
       "      } catch (error) {\n",
       "        console.error('Error during call to suggestCharts:', error);\n",
       "      }\n",
       "      quickchartButtonEl.classList.remove('colab-df-spinner');\n",
       "      quickchartButtonEl.classList.add('colab-df-quickchart-complete');\n",
       "    }\n",
       "    (() => {\n",
       "      let quickchartButtonEl =\n",
       "        document.querySelector('#df-ce6b30a4-acf5-4b0d-8b5e-9346e01135cb button');\n",
       "      quickchartButtonEl.style.display =\n",
       "        google.colab.kernel.accessAllowed ? 'block' : 'none';\n",
       "    })();\n",
       "  </script>\n",
       "</div>\n",
       "\n",
       "    </div>\n",
       "  </div>\n"
      ],
      "text/plain": [
       "                              BEDS  BATH  PROPERTYSQFT     PRICE\n",
       "SUBLOCALITY     TYPE                                            \n",
       "Bronx County    Condo         1.88  1.67        890.75 324736.00\n",
       "                Coop          2.00  1.36       1033.80 257278.57\n",
       "                House         3.28  2.08       1690.40 607759.26\n",
       "                Land          3.00  2.37       2184.21 380600.00\n",
       "                Multi-family  4.77  2.60       2108.24 781782.83\n",
       "                Townhouse     3.20  2.42       1736.24 695000.00\n",
       "Brooklyn        Condo         2.04  1.48        996.20 632140.53\n",
       "                Coop          1.68  1.11       1117.11 392682.46\n",
       "                House         3.33  2.33       2216.14 733333.33\n",
       "                Land          3.00  2.37       2184.21   5800.00\n",
       "                Townhouse     2.00  1.50       1515.10 597500.00\n",
       "Kings County    Condo         2.15  1.67       1250.28 593153.85\n",
       "                Coop          2.00  1.31       1486.62 438076.92\n",
       "                House         3.18  2.07       1675.72 708557.98\n",
       "                Land          3.00  2.37       2184.21 512571.29\n",
       "                Multi-family  4.22  2.67       2046.74 794785.91\n",
       "                Townhouse     3.82  1.94       1982.26 799544.09\n",
       "Manhattan       Condo         1.33  1.33       1421.07 608000.00\n",
       "                Coop          1.00  1.00       2184.21 612000.00\n",
       "New York        Condo         2.03  1.29       1036.17 695835.32\n",
       "                Coop          1.89  1.18       1674.16 595372.95\n",
       "                House         2.67  1.76       1373.97 755845.80\n",
       "                Land          3.00  2.37       2184.21 137000.00\n",
       "                Multi-family  3.83  2.33       1575.03 745000.00\n",
       "New York County Condo         2.38  1.42       1140.43 581625.00\n",
       "                Coop          1.58  1.25       1711.62 604625.00\n",
       "                Multi-family  3.00  2.37       2500.00 950000.00\n",
       "                Townhouse     4.00  2.00       1440.00 795000.00\n",
       "Queens          Condo         1.97  1.58       1242.24 609335.58\n",
       "                Coop          1.82  1.23       1610.83 352430.81\n",
       "                House         4.00  2.00       1400.00 899000.00\n",
       "Queens County   Condo         1.85  1.67       1424.16 596434.15\n",
       "                Coop          1.80  1.09       1805.36 330988.57\n",
       "                House         3.28  2.12       1890.81 744086.65\n",
       "                Land          3.00  2.30       1937.37 576800.00\n",
       "                Multi-family  4.44  2.64       2074.88 798938.04\n",
       "                Townhouse     2.86  2.00       1694.13 838071.43\n",
       "Richmond County Condo         2.00  1.85       1196.36 467263.64\n",
       "                House         3.16  2.10       1515.51 672799.33\n",
       "                Land          3.00  2.37       2184.21 336983.33\n",
       "                Multi-family  3.78  2.70       2064.89 800733.33\n",
       "                Townhouse     2.64  2.09       1488.93 544042.48\n",
       "Staten Island   Condo         1.74  1.29        955.13 371430.43\n",
       "                Coop          1.60  1.00        944.80 311900.00\n",
       "                Townhouse     3.00  2.00       1677.00 549999.00\n",
       "The Bronx       Condo         2.11  1.56       1102.77 394698.07\n",
       "                Coop          1.71  1.19       1174.45 262961.57\n",
       "                House         3.00  2.00       1728.00 638000.00\n",
       "                Townhouse     4.00  3.00       2160.00 588000.00"
      ]
     },
     "execution_count": 45,
     "metadata": {},
     "output_type": "execute_result"
    }
   ],
   "source": [
    "# checking the average number of bedrooms, bathrooms, and car parking spaces in a region\n",
    "cleaned_data.groupby(['SUBLOCALITY','TYPE'])[['BEDS','BATH','PROPERTYSQFT', 'PRICE']].mean()"
   ]
  },
  {
   "cell_type": "markdown",
   "metadata": {
    "id": "Qg5fkq3pBwrv"
   },
   "source": [
    "* We have received the mean number of Bedrooms, Bathrooms, and Car parking spaces for each type of property in a specific region."
   ]
  },
  {
   "cell_type": "markdown",
   "metadata": {
    "id": "hjYuXNjHyWDc"
   },
   "source": [
    "**RUN A LINEAR REGRESSION MODEL**\n",
    "\n",
    "First split the data\n",
    "\n",
    "\n",
    "\n",
    "\n"
   ]
  },
  {
   "cell_type": "code",
   "execution_count": 46,
   "metadata": {
    "colab": {
     "base_uri": "https://localhost:8080/",
     "height": 206
    },
    "id": "mNzQprqMy3z2",
    "outputId": "1b179e20-4ba2-4692-b4c2-8c66b803e05c"
   },
   "outputs": [
    {
     "data": {
      "application/vnd.google.colaboratory.intrinsic+json": {
       "summary": "{\n  \"name\": \"cleaned_data\",\n  \"rows\": 2377,\n  \"fields\": [\n    {\n      \"column\": \"PRICE\",\n      \"properties\": {\n        \"dtype\": \"number\",\n        \"std\": 244097,\n        \"min\": 5800,\n        \"max\": 999999,\n        \"num_unique_values\": 639,\n        \"samples\": [\n          390000,\n          438000,\n          450888\n        ],\n        \"semantic_type\": \"\",\n        \"description\": \"\"\n      }\n    },\n    {\n      \"column\": \"BEDS\",\n      \"properties\": {\n        \"dtype\": \"number\",\n        \"std\": 1,\n        \"min\": 1,\n        \"max\": 6,\n        \"num_unique_values\": 6,\n        \"samples\": [\n          2,\n          4,\n          6\n        ],\n        \"semantic_type\": \"\",\n        \"description\": \"\"\n      }\n    },\n    {\n      \"column\": \"BATH\",\n      \"properties\": {\n        \"dtype\": \"number\",\n        \"std\": 0.7387475198771406,\n        \"min\": 1.0,\n        \"max\": 6.0,\n        \"num_unique_values\": 7,\n        \"samples\": [\n          2.0,\n          1.0,\n          5.0\n        ],\n        \"semantic_type\": \"\",\n        \"description\": \"\"\n      }\n    },\n    {\n      \"column\": \"PROPERTYSQFT\",\n      \"properties\": {\n        \"dtype\": \"number\",\n        \"std\": 642.8524898246119,\n        \"min\": 250.0,\n        \"max\": 2980.0,\n        \"num_unique_values\": 702,\n        \"samples\": [\n          846.0,\n          2208.0,\n          1549.0\n        ],\n        \"semantic_type\": \"\",\n        \"description\": \"\"\n      }\n    },\n    {\n      \"column\": \"SUBLOCALITY\",\n      \"properties\": {\n        \"dtype\": \"category\",\n        \"num_unique_values\": 11,\n        \"samples\": [\n          \"The Bronx\",\n          \"Manhattan\",\n          \"Bronx County\"\n        ],\n        \"semantic_type\": \"\",\n        \"description\": \"\"\n      }\n    },\n    {\n      \"column\": \"TOTAL_ROOMS\",\n      \"properties\": {\n        \"dtype\": \"number\",\n        \"std\": 1.7546279776182372,\n        \"min\": 2.0,\n        \"max\": 11.0,\n        \"num_unique_values\": 16,\n        \"samples\": [\n          4.0,\n          6.0,\n          2.0\n        ],\n        \"semantic_type\": \"\",\n        \"description\": \"\"\n      }\n    },\n    {\n      \"column\": \"TYPE_Condo\",\n      \"properties\": {\n        \"dtype\": \"number\",\n        \"std\": 0.39415850802172275,\n        \"min\": 0.0,\n        \"max\": 1.0,\n        \"num_unique_values\": 2,\n        \"samples\": [\n          0.0,\n          1.0\n        ],\n        \"semantic_type\": \"\",\n        \"description\": \"\"\n      }\n    },\n    {\n      \"column\": \"TYPE_Coop\",\n      \"properties\": {\n        \"dtype\": \"number\",\n        \"std\": 0.49474767946505555,\n        \"min\": 0.0,\n        \"max\": 1.0,\n        \"num_unique_values\": 2,\n        \"samples\": [\n          1.0,\n          0.0\n        ],\n        \"semantic_type\": \"\",\n        \"description\": \"\"\n      }\n    },\n    {\n      \"column\": \"TYPE_House\",\n      \"properties\": {\n        \"dtype\": \"number\",\n        \"std\": 0.43352812813418823,\n        \"min\": 0.0,\n        \"max\": 1.0,\n        \"num_unique_values\": 2,\n        \"samples\": [\n          1.0,\n          0.0\n        ],\n        \"semantic_type\": \"\",\n        \"description\": \"\"\n      }\n    },\n    {\n      \"column\": \"TYPE_Land\",\n      \"properties\": {\n        \"dtype\": \"number\",\n        \"std\": 0.1040339718641081,\n        \"min\": 0.0,\n        \"max\": 1.0,\n        \"num_unique_values\": 2,\n        \"samples\": [\n          1.0,\n          0.0\n        ],\n        \"semantic_type\": \"\",\n        \"description\": \"\"\n      }\n    },\n    {\n      \"column\": \"TYPE_Multi-family\",\n      \"properties\": {\n        \"dtype\": \"number\",\n        \"std\": 0.29163354161936034,\n        \"min\": 0.0,\n        \"max\": 1.0,\n        \"num_unique_values\": 2,\n        \"samples\": [\n          1.0,\n          0.0\n        ],\n        \"semantic_type\": \"\",\n        \"description\": \"\"\n      }\n    },\n    {\n      \"column\": \"TYPE_Townhouse\",\n      \"properties\": {\n        \"dtype\": \"number\",\n        \"std\": 0.1568920122123681,\n        \"min\": 0.0,\n        \"max\": 1.0,\n        \"num_unique_values\": 2,\n        \"samples\": [\n          1.0,\n          0.0\n        ],\n        \"semantic_type\": \"\",\n        \"description\": \"\"\n      }\n    }\n  ]\n}",
       "type": "dataframe",
       "variable_name": "cleaned_data"
      },
      "text/html": [
       "\n",
       "  <div id=\"df-422b4eb1-8e73-4280-94b9-c13e7a9cd0ab\" class=\"colab-df-container\">\n",
       "    <div>\n",
       "<style scoped>\n",
       "    .dataframe tbody tr th:only-of-type {\n",
       "        vertical-align: middle;\n",
       "    }\n",
       "\n",
       "    .dataframe tbody tr th {\n",
       "        vertical-align: top;\n",
       "    }\n",
       "\n",
       "    .dataframe thead th {\n",
       "        text-align: right;\n",
       "    }\n",
       "</style>\n",
       "<table border=\"1\" class=\"dataframe\">\n",
       "  <thead>\n",
       "    <tr style=\"text-align: right;\">\n",
       "      <th></th>\n",
       "      <th>PRICE</th>\n",
       "      <th>BEDS</th>\n",
       "      <th>BATH</th>\n",
       "      <th>PROPERTYSQFT</th>\n",
       "      <th>SUBLOCALITY</th>\n",
       "      <th>TOTAL_ROOMS</th>\n",
       "      <th>TYPE_Condo</th>\n",
       "      <th>TYPE_Coop</th>\n",
       "      <th>TYPE_House</th>\n",
       "      <th>TYPE_Land</th>\n",
       "      <th>TYPE_Multi-family</th>\n",
       "      <th>TYPE_Townhouse</th>\n",
       "    </tr>\n",
       "  </thead>\n",
       "  <tbody>\n",
       "    <tr>\n",
       "      <th>0</th>\n",
       "      <td>315000</td>\n",
       "      <td>2</td>\n",
       "      <td>2.00</td>\n",
       "      <td>1400.00</td>\n",
       "      <td>Manhattan</td>\n",
       "      <td>4.00</td>\n",
       "      <td>1.00</td>\n",
       "      <td>0.00</td>\n",
       "      <td>0.00</td>\n",
       "      <td>0.00</td>\n",
       "      <td>0.00</td>\n",
       "      <td>0.00</td>\n",
       "    </tr>\n",
       "    <tr>\n",
       "      <th>2</th>\n",
       "      <td>260000</td>\n",
       "      <td>4</td>\n",
       "      <td>2.00</td>\n",
       "      <td>2015.00</td>\n",
       "      <td>Richmond County</td>\n",
       "      <td>6.00</td>\n",
       "      <td>0.00</td>\n",
       "      <td>0.00</td>\n",
       "      <td>1.00</td>\n",
       "      <td>0.00</td>\n",
       "      <td>0.00</td>\n",
       "      <td>0.00</td>\n",
       "    </tr>\n",
       "    <tr>\n",
       "      <th>3</th>\n",
       "      <td>69000</td>\n",
       "      <td>3</td>\n",
       "      <td>1.00</td>\n",
       "      <td>445.00</td>\n",
       "      <td>New York County</td>\n",
       "      <td>4.00</td>\n",
       "      <td>1.00</td>\n",
       "      <td>0.00</td>\n",
       "      <td>0.00</td>\n",
       "      <td>0.00</td>\n",
       "      <td>0.00</td>\n",
       "      <td>0.00</td>\n",
       "    </tr>\n",
       "    <tr>\n",
       "      <th>6</th>\n",
       "      <td>899500</td>\n",
       "      <td>2</td>\n",
       "      <td>2.00</td>\n",
       "      <td>2184.21</td>\n",
       "      <td>New York</td>\n",
       "      <td>4.00</td>\n",
       "      <td>1.00</td>\n",
       "      <td>0.00</td>\n",
       "      <td>0.00</td>\n",
       "      <td>0.00</td>\n",
       "      <td>0.00</td>\n",
       "      <td>0.00</td>\n",
       "    </tr>\n",
       "    <tr>\n",
       "      <th>9</th>\n",
       "      <td>440000</td>\n",
       "      <td>2</td>\n",
       "      <td>1.00</td>\n",
       "      <td>978.00</td>\n",
       "      <td>Brooklyn</td>\n",
       "      <td>3.00</td>\n",
       "      <td>0.00</td>\n",
       "      <td>1.00</td>\n",
       "      <td>0.00</td>\n",
       "      <td>0.00</td>\n",
       "      <td>0.00</td>\n",
       "      <td>0.00</td>\n",
       "    </tr>\n",
       "  </tbody>\n",
       "</table>\n",
       "</div>\n",
       "    <div class=\"colab-df-buttons\">\n",
       "\n",
       "  <div class=\"colab-df-container\">\n",
       "    <button class=\"colab-df-convert\" onclick=\"convertToInteractive('df-422b4eb1-8e73-4280-94b9-c13e7a9cd0ab')\"\n",
       "            title=\"Convert this dataframe to an interactive table.\"\n",
       "            style=\"display:none;\">\n",
       "\n",
       "  <svg xmlns=\"http://www.w3.org/2000/svg\" height=\"24px\" viewBox=\"0 -960 960 960\">\n",
       "    <path d=\"M120-120v-720h720v720H120Zm60-500h600v-160H180v160Zm220 220h160v-160H400v160Zm0 220h160v-160H400v160ZM180-400h160v-160H180v160Zm440 0h160v-160H620v160ZM180-180h160v-160H180v160Zm440 0h160v-160H620v160Z\"/>\n",
       "  </svg>\n",
       "    </button>\n",
       "\n",
       "  <style>\n",
       "    .colab-df-container {\n",
       "      display:flex;\n",
       "      gap: 12px;\n",
       "    }\n",
       "\n",
       "    .colab-df-convert {\n",
       "      background-color: #E8F0FE;\n",
       "      border: none;\n",
       "      border-radius: 50%;\n",
       "      cursor: pointer;\n",
       "      display: none;\n",
       "      fill: #1967D2;\n",
       "      height: 32px;\n",
       "      padding: 0 0 0 0;\n",
       "      width: 32px;\n",
       "    }\n",
       "\n",
       "    .colab-df-convert:hover {\n",
       "      background-color: #E2EBFA;\n",
       "      box-shadow: 0px 1px 2px rgba(60, 64, 67, 0.3), 0px 1px 3px 1px rgba(60, 64, 67, 0.15);\n",
       "      fill: #174EA6;\n",
       "    }\n",
       "\n",
       "    .colab-df-buttons div {\n",
       "      margin-bottom: 4px;\n",
       "    }\n",
       "\n",
       "    [theme=dark] .colab-df-convert {\n",
       "      background-color: #3B4455;\n",
       "      fill: #D2E3FC;\n",
       "    }\n",
       "\n",
       "    [theme=dark] .colab-df-convert:hover {\n",
       "      background-color: #434B5C;\n",
       "      box-shadow: 0px 1px 3px 1px rgba(0, 0, 0, 0.15);\n",
       "      filter: drop-shadow(0px 1px 2px rgba(0, 0, 0, 0.3));\n",
       "      fill: #FFFFFF;\n",
       "    }\n",
       "  </style>\n",
       "\n",
       "    <script>\n",
       "      const buttonEl =\n",
       "        document.querySelector('#df-422b4eb1-8e73-4280-94b9-c13e7a9cd0ab button.colab-df-convert');\n",
       "      buttonEl.style.display =\n",
       "        google.colab.kernel.accessAllowed ? 'block' : 'none';\n",
       "\n",
       "      async function convertToInteractive(key) {\n",
       "        const element = document.querySelector('#df-422b4eb1-8e73-4280-94b9-c13e7a9cd0ab');\n",
       "        const dataTable =\n",
       "          await google.colab.kernel.invokeFunction('convertToInteractive',\n",
       "                                                    [key], {});\n",
       "        if (!dataTable) return;\n",
       "\n",
       "        const docLinkHtml = 'Like what you see? Visit the ' +\n",
       "          '<a target=\"_blank\" href=https://colab.research.google.com/notebooks/data_table.ipynb>data table notebook</a>'\n",
       "          + ' to learn more about interactive tables.';\n",
       "        element.innerHTML = '';\n",
       "        dataTable['output_type'] = 'display_data';\n",
       "        await google.colab.output.renderOutput(dataTable, element);\n",
       "        const docLink = document.createElement('div');\n",
       "        docLink.innerHTML = docLinkHtml;\n",
       "        element.appendChild(docLink);\n",
       "      }\n",
       "    </script>\n",
       "  </div>\n",
       "\n",
       "\n",
       "<div id=\"df-91f9c355-2a75-4f08-ad9f-88ba8315e359\">\n",
       "  <button class=\"colab-df-quickchart\" onclick=\"quickchart('df-91f9c355-2a75-4f08-ad9f-88ba8315e359')\"\n",
       "            title=\"Suggest charts\"\n",
       "            style=\"display:none;\">\n",
       "\n",
       "<svg xmlns=\"http://www.w3.org/2000/svg\" height=\"24px\"viewBox=\"0 0 24 24\"\n",
       "     width=\"24px\">\n",
       "    <g>\n",
       "        <path d=\"M19 3H5c-1.1 0-2 .9-2 2v14c0 1.1.9 2 2 2h14c1.1 0 2-.9 2-2V5c0-1.1-.9-2-2-2zM9 17H7v-7h2v7zm4 0h-2V7h2v10zm4 0h-2v-4h2v4z\"/>\n",
       "    </g>\n",
       "</svg>\n",
       "  </button>\n",
       "\n",
       "<style>\n",
       "  .colab-df-quickchart {\n",
       "      --bg-color: #E8F0FE;\n",
       "      --fill-color: #1967D2;\n",
       "      --hover-bg-color: #E2EBFA;\n",
       "      --hover-fill-color: #174EA6;\n",
       "      --disabled-fill-color: #AAA;\n",
       "      --disabled-bg-color: #DDD;\n",
       "  }\n",
       "\n",
       "  [theme=dark] .colab-df-quickchart {\n",
       "      --bg-color: #3B4455;\n",
       "      --fill-color: #D2E3FC;\n",
       "      --hover-bg-color: #434B5C;\n",
       "      --hover-fill-color: #FFFFFF;\n",
       "      --disabled-bg-color: #3B4455;\n",
       "      --disabled-fill-color: #666;\n",
       "  }\n",
       "\n",
       "  .colab-df-quickchart {\n",
       "    background-color: var(--bg-color);\n",
       "    border: none;\n",
       "    border-radius: 50%;\n",
       "    cursor: pointer;\n",
       "    display: none;\n",
       "    fill: var(--fill-color);\n",
       "    height: 32px;\n",
       "    padding: 0;\n",
       "    width: 32px;\n",
       "  }\n",
       "\n",
       "  .colab-df-quickchart:hover {\n",
       "    background-color: var(--hover-bg-color);\n",
       "    box-shadow: 0 1px 2px rgba(60, 64, 67, 0.3), 0 1px 3px 1px rgba(60, 64, 67, 0.15);\n",
       "    fill: var(--button-hover-fill-color);\n",
       "  }\n",
       "\n",
       "  .colab-df-quickchart-complete:disabled,\n",
       "  .colab-df-quickchart-complete:disabled:hover {\n",
       "    background-color: var(--disabled-bg-color);\n",
       "    fill: var(--disabled-fill-color);\n",
       "    box-shadow: none;\n",
       "  }\n",
       "\n",
       "  .colab-df-spinner {\n",
       "    border: 2px solid var(--fill-color);\n",
       "    border-color: transparent;\n",
       "    border-bottom-color: var(--fill-color);\n",
       "    animation:\n",
       "      spin 1s steps(1) infinite;\n",
       "  }\n",
       "\n",
       "  @keyframes spin {\n",
       "    0% {\n",
       "      border-color: transparent;\n",
       "      border-bottom-color: var(--fill-color);\n",
       "      border-left-color: var(--fill-color);\n",
       "    }\n",
       "    20% {\n",
       "      border-color: transparent;\n",
       "      border-left-color: var(--fill-color);\n",
       "      border-top-color: var(--fill-color);\n",
       "    }\n",
       "    30% {\n",
       "      border-color: transparent;\n",
       "      border-left-color: var(--fill-color);\n",
       "      border-top-color: var(--fill-color);\n",
       "      border-right-color: var(--fill-color);\n",
       "    }\n",
       "    40% {\n",
       "      border-color: transparent;\n",
       "      border-right-color: var(--fill-color);\n",
       "      border-top-color: var(--fill-color);\n",
       "    }\n",
       "    60% {\n",
       "      border-color: transparent;\n",
       "      border-right-color: var(--fill-color);\n",
       "    }\n",
       "    80% {\n",
       "      border-color: transparent;\n",
       "      border-right-color: var(--fill-color);\n",
       "      border-bottom-color: var(--fill-color);\n",
       "    }\n",
       "    90% {\n",
       "      border-color: transparent;\n",
       "      border-bottom-color: var(--fill-color);\n",
       "    }\n",
       "  }\n",
       "</style>\n",
       "\n",
       "  <script>\n",
       "    async function quickchart(key) {\n",
       "      const quickchartButtonEl =\n",
       "        document.querySelector('#' + key + ' button');\n",
       "      quickchartButtonEl.disabled = true;  // To prevent multiple clicks.\n",
       "      quickchartButtonEl.classList.add('colab-df-spinner');\n",
       "      try {\n",
       "        const charts = await google.colab.kernel.invokeFunction(\n",
       "            'suggestCharts', [key], {});\n",
       "      } catch (error) {\n",
       "        console.error('Error during call to suggestCharts:', error);\n",
       "      }\n",
       "      quickchartButtonEl.classList.remove('colab-df-spinner');\n",
       "      quickchartButtonEl.classList.add('colab-df-quickchart-complete');\n",
       "    }\n",
       "    (() => {\n",
       "      let quickchartButtonEl =\n",
       "        document.querySelector('#df-91f9c355-2a75-4f08-ad9f-88ba8315e359 button');\n",
       "      quickchartButtonEl.style.display =\n",
       "        google.colab.kernel.accessAllowed ? 'block' : 'none';\n",
       "    })();\n",
       "  </script>\n",
       "</div>\n",
       "\n",
       "    </div>\n",
       "  </div>\n"
      ],
      "text/plain": [
       "    PRICE  BEDS  BATH  PROPERTYSQFT      SUBLOCALITY  TOTAL_ROOMS  TYPE_Condo  \\\n",
       "0  315000     2  2.00       1400.00        Manhattan         4.00        1.00   \n",
       "2  260000     4  2.00       2015.00  Richmond County         6.00        0.00   \n",
       "3   69000     3  1.00        445.00  New York County         4.00        1.00   \n",
       "6  899500     2  2.00       2184.21         New York         4.00        1.00   \n",
       "9  440000     2  1.00        978.00         Brooklyn         3.00        0.00   \n",
       "\n",
       "   TYPE_Coop  TYPE_House  TYPE_Land  TYPE_Multi-family  TYPE_Townhouse  \n",
       "0       0.00        0.00       0.00               0.00            0.00  \n",
       "2       0.00        1.00       0.00               0.00            0.00  \n",
       "3       0.00        0.00       0.00               0.00            0.00  \n",
       "6       0.00        0.00       0.00               0.00            0.00  \n",
       "9       1.00        0.00       0.00               0.00            0.00  "
      ]
     },
     "execution_count": 46,
     "metadata": {},
     "output_type": "execute_result"
    }
   ],
   "source": [
    "# drop_first=True will drop one of the three origin columns\n",
    "cleaned_data = pd.get_dummies(cleaned_data, columns=[\"TYPE\"], drop_first=False, dtype='float')\n",
    "cleaned_data.head()"
   ]
  },
  {
   "cell_type": "code",
   "execution_count": 47,
   "metadata": {
    "colab": {
     "base_uri": "https://localhost:8080/",
     "height": 273
    },
    "id": "a8zzAj1J0qK6",
    "outputId": "216ba791-64ac-4edb-d68c-92e1851c16f7"
   },
   "outputs": [
    {
     "data": {
      "application/vnd.google.colaboratory.intrinsic+json": {
       "type": "dataframe",
       "variable_name": "cleaned_data"
      },
      "text/html": [
       "\n",
       "  <div id=\"df-da8271e7-3705-4ad2-a3b9-538f0bfabcb3\" class=\"colab-df-container\">\n",
       "    <div>\n",
       "<style scoped>\n",
       "    .dataframe tbody tr th:only-of-type {\n",
       "        vertical-align: middle;\n",
       "    }\n",
       "\n",
       "    .dataframe tbody tr th {\n",
       "        vertical-align: top;\n",
       "    }\n",
       "\n",
       "    .dataframe thead th {\n",
       "        text-align: right;\n",
       "    }\n",
       "</style>\n",
       "<table border=\"1\" class=\"dataframe\">\n",
       "  <thead>\n",
       "    <tr style=\"text-align: right;\">\n",
       "      <th></th>\n",
       "      <th>PRICE</th>\n",
       "      <th>BEDS</th>\n",
       "      <th>BATH</th>\n",
       "      <th>PROPERTYSQFT</th>\n",
       "      <th>TOTAL_ROOMS</th>\n",
       "      <th>TYPE_Condo</th>\n",
       "      <th>TYPE_Coop</th>\n",
       "      <th>TYPE_House</th>\n",
       "      <th>TYPE_Land</th>\n",
       "      <th>TYPE_Multi-family</th>\n",
       "      <th>...</th>\n",
       "      <th>SUBLOCALITY_Brooklyn</th>\n",
       "      <th>SUBLOCALITY_Kings County</th>\n",
       "      <th>SUBLOCALITY_Manhattan</th>\n",
       "      <th>SUBLOCALITY_New York</th>\n",
       "      <th>SUBLOCALITY_New York County</th>\n",
       "      <th>SUBLOCALITY_Queens</th>\n",
       "      <th>SUBLOCALITY_Queens County</th>\n",
       "      <th>SUBLOCALITY_Richmond County</th>\n",
       "      <th>SUBLOCALITY_Staten Island</th>\n",
       "      <th>SUBLOCALITY_The Bronx</th>\n",
       "    </tr>\n",
       "  </thead>\n",
       "  <tbody>\n",
       "    <tr>\n",
       "      <th>0</th>\n",
       "      <td>315000</td>\n",
       "      <td>2</td>\n",
       "      <td>2.00</td>\n",
       "      <td>1400.00</td>\n",
       "      <td>4.00</td>\n",
       "      <td>1.00</td>\n",
       "      <td>0.00</td>\n",
       "      <td>0.00</td>\n",
       "      <td>0.00</td>\n",
       "      <td>0.00</td>\n",
       "      <td>...</td>\n",
       "      <td>0.00</td>\n",
       "      <td>0.00</td>\n",
       "      <td>1.00</td>\n",
       "      <td>0.00</td>\n",
       "      <td>0.00</td>\n",
       "      <td>0.00</td>\n",
       "      <td>0.00</td>\n",
       "      <td>0.00</td>\n",
       "      <td>0.00</td>\n",
       "      <td>0.00</td>\n",
       "    </tr>\n",
       "    <tr>\n",
       "      <th>2</th>\n",
       "      <td>260000</td>\n",
       "      <td>4</td>\n",
       "      <td>2.00</td>\n",
       "      <td>2015.00</td>\n",
       "      <td>6.00</td>\n",
       "      <td>0.00</td>\n",
       "      <td>0.00</td>\n",
       "      <td>1.00</td>\n",
       "      <td>0.00</td>\n",
       "      <td>0.00</td>\n",
       "      <td>...</td>\n",
       "      <td>0.00</td>\n",
       "      <td>0.00</td>\n",
       "      <td>0.00</td>\n",
       "      <td>0.00</td>\n",
       "      <td>0.00</td>\n",
       "      <td>0.00</td>\n",
       "      <td>0.00</td>\n",
       "      <td>1.00</td>\n",
       "      <td>0.00</td>\n",
       "      <td>0.00</td>\n",
       "    </tr>\n",
       "    <tr>\n",
       "      <th>3</th>\n",
       "      <td>69000</td>\n",
       "      <td>3</td>\n",
       "      <td>1.00</td>\n",
       "      <td>445.00</td>\n",
       "      <td>4.00</td>\n",
       "      <td>1.00</td>\n",
       "      <td>0.00</td>\n",
       "      <td>0.00</td>\n",
       "      <td>0.00</td>\n",
       "      <td>0.00</td>\n",
       "      <td>...</td>\n",
       "      <td>0.00</td>\n",
       "      <td>0.00</td>\n",
       "      <td>0.00</td>\n",
       "      <td>0.00</td>\n",
       "      <td>1.00</td>\n",
       "      <td>0.00</td>\n",
       "      <td>0.00</td>\n",
       "      <td>0.00</td>\n",
       "      <td>0.00</td>\n",
       "      <td>0.00</td>\n",
       "    </tr>\n",
       "    <tr>\n",
       "      <th>6</th>\n",
       "      <td>899500</td>\n",
       "      <td>2</td>\n",
       "      <td>2.00</td>\n",
       "      <td>2184.21</td>\n",
       "      <td>4.00</td>\n",
       "      <td>1.00</td>\n",
       "      <td>0.00</td>\n",
       "      <td>0.00</td>\n",
       "      <td>0.00</td>\n",
       "      <td>0.00</td>\n",
       "      <td>...</td>\n",
       "      <td>0.00</td>\n",
       "      <td>0.00</td>\n",
       "      <td>0.00</td>\n",
       "      <td>1.00</td>\n",
       "      <td>0.00</td>\n",
       "      <td>0.00</td>\n",
       "      <td>0.00</td>\n",
       "      <td>0.00</td>\n",
       "      <td>0.00</td>\n",
       "      <td>0.00</td>\n",
       "    </tr>\n",
       "    <tr>\n",
       "      <th>9</th>\n",
       "      <td>440000</td>\n",
       "      <td>2</td>\n",
       "      <td>1.00</td>\n",
       "      <td>978.00</td>\n",
       "      <td>3.00</td>\n",
       "      <td>0.00</td>\n",
       "      <td>1.00</td>\n",
       "      <td>0.00</td>\n",
       "      <td>0.00</td>\n",
       "      <td>0.00</td>\n",
       "      <td>...</td>\n",
       "      <td>1.00</td>\n",
       "      <td>0.00</td>\n",
       "      <td>0.00</td>\n",
       "      <td>0.00</td>\n",
       "      <td>0.00</td>\n",
       "      <td>0.00</td>\n",
       "      <td>0.00</td>\n",
       "      <td>0.00</td>\n",
       "      <td>0.00</td>\n",
       "      <td>0.00</td>\n",
       "    </tr>\n",
       "  </tbody>\n",
       "</table>\n",
       "<p>5 rows × 22 columns</p>\n",
       "</div>\n",
       "    <div class=\"colab-df-buttons\">\n",
       "\n",
       "  <div class=\"colab-df-container\">\n",
       "    <button class=\"colab-df-convert\" onclick=\"convertToInteractive('df-da8271e7-3705-4ad2-a3b9-538f0bfabcb3')\"\n",
       "            title=\"Convert this dataframe to an interactive table.\"\n",
       "            style=\"display:none;\">\n",
       "\n",
       "  <svg xmlns=\"http://www.w3.org/2000/svg\" height=\"24px\" viewBox=\"0 -960 960 960\">\n",
       "    <path d=\"M120-120v-720h720v720H120Zm60-500h600v-160H180v160Zm220 220h160v-160H400v160Zm0 220h160v-160H400v160ZM180-400h160v-160H180v160Zm440 0h160v-160H620v160ZM180-180h160v-160H180v160Zm440 0h160v-160H620v160Z\"/>\n",
       "  </svg>\n",
       "    </button>\n",
       "\n",
       "  <style>\n",
       "    .colab-df-container {\n",
       "      display:flex;\n",
       "      gap: 12px;\n",
       "    }\n",
       "\n",
       "    .colab-df-convert {\n",
       "      background-color: #E8F0FE;\n",
       "      border: none;\n",
       "      border-radius: 50%;\n",
       "      cursor: pointer;\n",
       "      display: none;\n",
       "      fill: #1967D2;\n",
       "      height: 32px;\n",
       "      padding: 0 0 0 0;\n",
       "      width: 32px;\n",
       "    }\n",
       "\n",
       "    .colab-df-convert:hover {\n",
       "      background-color: #E2EBFA;\n",
       "      box-shadow: 0px 1px 2px rgba(60, 64, 67, 0.3), 0px 1px 3px 1px rgba(60, 64, 67, 0.15);\n",
       "      fill: #174EA6;\n",
       "    }\n",
       "\n",
       "    .colab-df-buttons div {\n",
       "      margin-bottom: 4px;\n",
       "    }\n",
       "\n",
       "    [theme=dark] .colab-df-convert {\n",
       "      background-color: #3B4455;\n",
       "      fill: #D2E3FC;\n",
       "    }\n",
       "\n",
       "    [theme=dark] .colab-df-convert:hover {\n",
       "      background-color: #434B5C;\n",
       "      box-shadow: 0px 1px 3px 1px rgba(0, 0, 0, 0.15);\n",
       "      filter: drop-shadow(0px 1px 2px rgba(0, 0, 0, 0.3));\n",
       "      fill: #FFFFFF;\n",
       "    }\n",
       "  </style>\n",
       "\n",
       "    <script>\n",
       "      const buttonEl =\n",
       "        document.querySelector('#df-da8271e7-3705-4ad2-a3b9-538f0bfabcb3 button.colab-df-convert');\n",
       "      buttonEl.style.display =\n",
       "        google.colab.kernel.accessAllowed ? 'block' : 'none';\n",
       "\n",
       "      async function convertToInteractive(key) {\n",
       "        const element = document.querySelector('#df-da8271e7-3705-4ad2-a3b9-538f0bfabcb3');\n",
       "        const dataTable =\n",
       "          await google.colab.kernel.invokeFunction('convertToInteractive',\n",
       "                                                    [key], {});\n",
       "        if (!dataTable) return;\n",
       "\n",
       "        const docLinkHtml = 'Like what you see? Visit the ' +\n",
       "          '<a target=\"_blank\" href=https://colab.research.google.com/notebooks/data_table.ipynb>data table notebook</a>'\n",
       "          + ' to learn more about interactive tables.';\n",
       "        element.innerHTML = '';\n",
       "        dataTable['output_type'] = 'display_data';\n",
       "        await google.colab.output.renderOutput(dataTable, element);\n",
       "        const docLink = document.createElement('div');\n",
       "        docLink.innerHTML = docLinkHtml;\n",
       "        element.appendChild(docLink);\n",
       "      }\n",
       "    </script>\n",
       "  </div>\n",
       "\n",
       "\n",
       "<div id=\"df-baf15a5f-5c0e-41d9-a9d9-e3e65fcd5cff\">\n",
       "  <button class=\"colab-df-quickchart\" onclick=\"quickchart('df-baf15a5f-5c0e-41d9-a9d9-e3e65fcd5cff')\"\n",
       "            title=\"Suggest charts\"\n",
       "            style=\"display:none;\">\n",
       "\n",
       "<svg xmlns=\"http://www.w3.org/2000/svg\" height=\"24px\"viewBox=\"0 0 24 24\"\n",
       "     width=\"24px\">\n",
       "    <g>\n",
       "        <path d=\"M19 3H5c-1.1 0-2 .9-2 2v14c0 1.1.9 2 2 2h14c1.1 0 2-.9 2-2V5c0-1.1-.9-2-2-2zM9 17H7v-7h2v7zm4 0h-2V7h2v10zm4 0h-2v-4h2v4z\"/>\n",
       "    </g>\n",
       "</svg>\n",
       "  </button>\n",
       "\n",
       "<style>\n",
       "  .colab-df-quickchart {\n",
       "      --bg-color: #E8F0FE;\n",
       "      --fill-color: #1967D2;\n",
       "      --hover-bg-color: #E2EBFA;\n",
       "      --hover-fill-color: #174EA6;\n",
       "      --disabled-fill-color: #AAA;\n",
       "      --disabled-bg-color: #DDD;\n",
       "  }\n",
       "\n",
       "  [theme=dark] .colab-df-quickchart {\n",
       "      --bg-color: #3B4455;\n",
       "      --fill-color: #D2E3FC;\n",
       "      --hover-bg-color: #434B5C;\n",
       "      --hover-fill-color: #FFFFFF;\n",
       "      --disabled-bg-color: #3B4455;\n",
       "      --disabled-fill-color: #666;\n",
       "  }\n",
       "\n",
       "  .colab-df-quickchart {\n",
       "    background-color: var(--bg-color);\n",
       "    border: none;\n",
       "    border-radius: 50%;\n",
       "    cursor: pointer;\n",
       "    display: none;\n",
       "    fill: var(--fill-color);\n",
       "    height: 32px;\n",
       "    padding: 0;\n",
       "    width: 32px;\n",
       "  }\n",
       "\n",
       "  .colab-df-quickchart:hover {\n",
       "    background-color: var(--hover-bg-color);\n",
       "    box-shadow: 0 1px 2px rgba(60, 64, 67, 0.3), 0 1px 3px 1px rgba(60, 64, 67, 0.15);\n",
       "    fill: var(--button-hover-fill-color);\n",
       "  }\n",
       "\n",
       "  .colab-df-quickchart-complete:disabled,\n",
       "  .colab-df-quickchart-complete:disabled:hover {\n",
       "    background-color: var(--disabled-bg-color);\n",
       "    fill: var(--disabled-fill-color);\n",
       "    box-shadow: none;\n",
       "  }\n",
       "\n",
       "  .colab-df-spinner {\n",
       "    border: 2px solid var(--fill-color);\n",
       "    border-color: transparent;\n",
       "    border-bottom-color: var(--fill-color);\n",
       "    animation:\n",
       "      spin 1s steps(1) infinite;\n",
       "  }\n",
       "\n",
       "  @keyframes spin {\n",
       "    0% {\n",
       "      border-color: transparent;\n",
       "      border-bottom-color: var(--fill-color);\n",
       "      border-left-color: var(--fill-color);\n",
       "    }\n",
       "    20% {\n",
       "      border-color: transparent;\n",
       "      border-left-color: var(--fill-color);\n",
       "      border-top-color: var(--fill-color);\n",
       "    }\n",
       "    30% {\n",
       "      border-color: transparent;\n",
       "      border-left-color: var(--fill-color);\n",
       "      border-top-color: var(--fill-color);\n",
       "      border-right-color: var(--fill-color);\n",
       "    }\n",
       "    40% {\n",
       "      border-color: transparent;\n",
       "      border-right-color: var(--fill-color);\n",
       "      border-top-color: var(--fill-color);\n",
       "    }\n",
       "    60% {\n",
       "      border-color: transparent;\n",
       "      border-right-color: var(--fill-color);\n",
       "    }\n",
       "    80% {\n",
       "      border-color: transparent;\n",
       "      border-right-color: var(--fill-color);\n",
       "      border-bottom-color: var(--fill-color);\n",
       "    }\n",
       "    90% {\n",
       "      border-color: transparent;\n",
       "      border-bottom-color: var(--fill-color);\n",
       "    }\n",
       "  }\n",
       "</style>\n",
       "\n",
       "  <script>\n",
       "    async function quickchart(key) {\n",
       "      const quickchartButtonEl =\n",
       "        document.querySelector('#' + key + ' button');\n",
       "      quickchartButtonEl.disabled = true;  // To prevent multiple clicks.\n",
       "      quickchartButtonEl.classList.add('colab-df-spinner');\n",
       "      try {\n",
       "        const charts = await google.colab.kernel.invokeFunction(\n",
       "            'suggestCharts', [key], {});\n",
       "      } catch (error) {\n",
       "        console.error('Error during call to suggestCharts:', error);\n",
       "      }\n",
       "      quickchartButtonEl.classList.remove('colab-df-spinner');\n",
       "      quickchartButtonEl.classList.add('colab-df-quickchart-complete');\n",
       "    }\n",
       "    (() => {\n",
       "      let quickchartButtonEl =\n",
       "        document.querySelector('#df-baf15a5f-5c0e-41d9-a9d9-e3e65fcd5cff button');\n",
       "      quickchartButtonEl.style.display =\n",
       "        google.colab.kernel.accessAllowed ? 'block' : 'none';\n",
       "    })();\n",
       "  </script>\n",
       "</div>\n",
       "\n",
       "    </div>\n",
       "  </div>\n"
      ],
      "text/plain": [
       "    PRICE  BEDS  BATH  PROPERTYSQFT  TOTAL_ROOMS  TYPE_Condo  TYPE_Coop  \\\n",
       "0  315000     2  2.00       1400.00         4.00        1.00       0.00   \n",
       "2  260000     4  2.00       2015.00         6.00        0.00       0.00   \n",
       "3   69000     3  1.00        445.00         4.00        1.00       0.00   \n",
       "6  899500     2  2.00       2184.21         4.00        1.00       0.00   \n",
       "9  440000     2  1.00        978.00         3.00        0.00       1.00   \n",
       "\n",
       "   TYPE_House  TYPE_Land  TYPE_Multi-family  ...  SUBLOCALITY_Brooklyn  \\\n",
       "0        0.00       0.00               0.00  ...                  0.00   \n",
       "2        1.00       0.00               0.00  ...                  0.00   \n",
       "3        0.00       0.00               0.00  ...                  0.00   \n",
       "6        0.00       0.00               0.00  ...                  0.00   \n",
       "9        0.00       0.00               0.00  ...                  1.00   \n",
       "\n",
       "   SUBLOCALITY_Kings County  SUBLOCALITY_Manhattan  SUBLOCALITY_New York  \\\n",
       "0                      0.00                   1.00                  0.00   \n",
       "2                      0.00                   0.00                  0.00   \n",
       "3                      0.00                   0.00                  0.00   \n",
       "6                      0.00                   0.00                  1.00   \n",
       "9                      0.00                   0.00                  0.00   \n",
       "\n",
       "   SUBLOCALITY_New York County  SUBLOCALITY_Queens  SUBLOCALITY_Queens County  \\\n",
       "0                         0.00                0.00                       0.00   \n",
       "2                         0.00                0.00                       0.00   \n",
       "3                         1.00                0.00                       0.00   \n",
       "6                         0.00                0.00                       0.00   \n",
       "9                         0.00                0.00                       0.00   \n",
       "\n",
       "   SUBLOCALITY_Richmond County  SUBLOCALITY_Staten Island  \\\n",
       "0                         0.00                       0.00   \n",
       "2                         1.00                       0.00   \n",
       "3                         0.00                       0.00   \n",
       "6                         0.00                       0.00   \n",
       "9                         0.00                       0.00   \n",
       "\n",
       "   SUBLOCALITY_The Bronx  \n",
       "0                   0.00  \n",
       "2                   0.00  \n",
       "3                   0.00  \n",
       "6                   0.00  \n",
       "9                   0.00  \n",
       "\n",
       "[5 rows x 22 columns]"
      ]
     },
     "execution_count": 47,
     "metadata": {},
     "output_type": "execute_result"
    }
   ],
   "source": [
    "# drop_first=True will drop one of the three origin columns\n",
    "cleaned_data = pd.get_dummies(cleaned_data, columns=[\"SUBLOCALITY\"], drop_first=False, dtype='float')\n",
    "cleaned_data.head()"
   ]
  },
  {
   "cell_type": "code",
   "execution_count": 48,
   "metadata": {
    "id": "F_0fkSiQ0-_0"
   },
   "outputs": [],
   "source": [
    "# independent variables\n",
    "X = cleaned_data.drop([\"PRICE\"], axis=1)\n",
    "# dependent variable\n",
    "y = cleaned_data[[\"PRICE\"]]"
   ]
  },
  {
   "cell_type": "code",
   "execution_count": 49,
   "metadata": {
    "id": "5vS5a7EX1Kus"
   },
   "outputs": [],
   "source": [
    "# let's add the intercept to data\n",
    "X = sm.add_constant(X)"
   ]
  },
  {
   "cell_type": "code",
   "execution_count": 50,
   "metadata": {
    "id": "C4-GAcZf1QHY"
   },
   "outputs": [],
   "source": [
    "X_train, X_test, y_train, y_test = train_test_split(\n",
    "    X, y, test_size=0.30, random_state=1\n",
    ")"
   ]
  },
  {
   "cell_type": "code",
   "execution_count": 51,
   "metadata": {
    "colab": {
     "base_uri": "https://localhost:8080/"
    },
    "id": "7jZKZNsAGz2i",
    "outputId": "9e5210a8-aa30-4a23-ad1e-e2e62f0ca576"
   },
   "outputs": [
    {
     "name": "stdout",
     "output_type": "stream",
     "text": [
      "Number of rows in train data = 1663\n",
      "Number of rows in test data = 714\n"
     ]
    }
   ],
   "source": [
    "print(\"Number of rows in train data =\", X_train.shape[0])\n",
    "print(\"Number of rows in test data =\", X_test.shape[0])"
   ]
  },
  {
   "cell_type": "code",
   "execution_count": 52,
   "metadata": {
    "id": "m5q6zVnKrFuo"
   },
   "outputs": [],
   "source": [
    "#Function for printing out prediction results\n",
    "def printPredictionReport(testData, predictionData):\n",
    "  size = predictionData.size\n",
    "  count = 0\n",
    "\n",
    "  while count < size:\n",
    "    print()\n",
    "    print(\"For the following test values: \")\n",
    "    print(f\"Beds: {testData.iloc[count]['BEDS']:.1f}\")\n",
    "    print(f\"Baths: {testData.iloc[count]['BATH']:.1f}\")\n",
    "    print(f\"Square Footage: {testData.iloc[count]['PROPERTYSQFT']:.1f}\")\n",
    "\n",
    "    #Determine home type\n",
    "    if testData.iloc[count]['TYPE_Condo'] > 0:\n",
    "      print(f\"Home Type: Condo\")\n",
    "    if testData.iloc[count]['TYPE_House'] > 0:\n",
    "      print(f\"Home Type: Single family home\")\n",
    "    if testData.iloc[count]['TYPE_Land'] > 0:\n",
    "      print(f\"Home Type: Land\")\n",
    "    if testData.iloc[count]['TYPE_Multi-family'] > 0:\n",
    "      print(f\"Home Type: Multi-family home\")\n",
    "    if testData.iloc[count]['TYPE_Townhouse'] > 0:\n",
    "      print(f\"Home Type: Townhouse\")\n",
    "\n",
    "    #Determine sublocality\n",
    "    if testData.iloc[count]['SUBLOCALITY_Brooklyn'] > 0:\n",
    "      print(\"Location: Brooklyn\")\n",
    "    if testData.iloc[count]['SUBLOCALITY_Kings County'] > 0:\n",
    "      print(\"Location: Kings County\")\n",
    "    if testData.iloc[count]['SUBLOCALITY_Manhattan'] > 0:\n",
    "      print(\"Location: Manhattan\")\n",
    "    if testData.iloc[count]['SUBLOCALITY_New York'] > 0:\n",
    "      print(\"Location: New York\")\n",
    "    if testData.iloc[count]['SUBLOCALITY_New York County'] > 0:\n",
    "      print(\"Location: New York County\")\n",
    "    if testData.iloc[count]['SUBLOCALITY_Queens'] > 0:\n",
    "      print(\"Location: Queens\")\n",
    "    if testData.iloc[count]['SUBLOCALITY_Queens County'] > 0:\n",
    "      print(\"Location: Queens County\")\n",
    "    if testData.iloc[count]['SUBLOCALITY_Richmond County'] > 0:\n",
    "      print(\"Location: Richmond County\")\n",
    "    if testData.iloc[count]['SUBLOCALITY_Staten Island'] > 0:\n",
    "      print(\"Location: Staten Island\")\n",
    "    if testData.iloc[count]['SUBLOCALITY_The Bronx'] > 0:\n",
    "      print(\"Location: The Bronx\")\n",
    "\n",
    "    print(f\"Beds: {testData.iloc[count]['BEDS']:.1f}\")\n",
    "    prediction = float(predictionData[count])\n",
    "    print(f\"The price prediction is: ${prediction:,.2f}\")\n",
    "    count += 1\n"
   ]
  },
  {
   "cell_type": "code",
   "execution_count": 53,
   "metadata": {
    "id": "Bcl14GD_w4c7"
   },
   "outputs": [],
   "source": [
    "#Function for creating a prediction results dataframe\n",
    "def createPredictionReportTable(testData, predictionData):\n",
    "\n",
    "  size = predictionData.size\n",
    "  count = 0\n",
    "\n",
    "  report_data = []\n",
    "\n",
    "  columnValues = [\"Predicted Price\", \"Beds\", \"Baths\", \"Square Footage\", \"Home Type\", \"Location\"]\n",
    "\n",
    "  while count < size:\n",
    "    valueList = []\n",
    "    prediction = predictionData[count]\n",
    "    prediction = round(float(prediction), 2)\n",
    "    valueList.append(prediction)\n",
    "    beds = round(float(testData.iloc[count]['BEDS']), 2)\n",
    "    valueList.append(beds)\n",
    "    baths = round(float(testData.iloc[count]['BATH']), 2)\n",
    "    valueList.append(baths)\n",
    "    sqfoot = round(float(testData.iloc[count]['PROPERTYSQFT']), 1)\n",
    "    valueList.append(sqfoot)\n",
    "\n",
    "    #Determine home type\n",
    "    home_type = \"\"\n",
    "    if testData.iloc[count]['TYPE_Condo'] > 0:\n",
    "      home_type = \"Condo\"\n",
    "    if testData.iloc[count]['TYPE_Coop'] > 0:\n",
    "      home_type = \"Co-op\"\n",
    "    if testData.iloc[count]['TYPE_House'] > 0:\n",
    "      home_type = \"Single family home\"\n",
    "    if testData.iloc[count]['TYPE_Land'] > 0:\n",
    "      home_type = \"Land\"\n",
    "    if testData.iloc[count]['TYPE_Multi-family'] > 0:\n",
    "      home_type = \"Multi-family home\"\n",
    "    if testData.iloc[count]['TYPE_Townhouse'] > 0:\n",
    "      home_type = \"Townhouse\"\n",
    "\n",
    "    valueList.append(home_type)\n",
    "\n",
    "\n",
    "    #Determine sublocality\n",
    "    local = \"\"\n",
    "    if testData.iloc[count]['SUBLOCALITY_Brooklyn'] > 0:\n",
    "      local = \"Brooklyn\"\n",
    "    if testData.iloc[count]['SUBLOCALITY_Kings County'] > 0:\n",
    "      local = \"Kings County\"\n",
    "    if testData.iloc[count]['SUBLOCALITY_Manhattan'] > 0:\n",
    "      local = \"Manhattan\"\n",
    "    if testData.iloc[count]['SUBLOCALITY_New York'] > 0:\n",
    "      local = \"New York\"\n",
    "    if testData.iloc[count]['SUBLOCALITY_New York County'] > 0:\n",
    "      local = \"New York County\"\n",
    "    if testData.iloc[count]['SUBLOCALITY_Queens'] > 0:\n",
    "      local = \"Queens\"\n",
    "    if testData.iloc[count]['SUBLOCALITY_Queens County'] > 0:\n",
    "      local = \"Queens County\"\n",
    "    if testData.iloc[count]['SUBLOCALITY_Richmond County'] > 0:\n",
    "      local = \"Richmond County\"\n",
    "    if testData.iloc[count]['SUBLOCALITY_Staten Island'] > 0:\n",
    "      local = \"Staten Island\"\n",
    "    if testData.iloc[count]['SUBLOCALITY_The Bronx'] > 0:\n",
    "      local = \"The Bronx\"\n",
    "\n",
    "\n",
    "    valueList.append(local)\n",
    "\n",
    "    count += 1\n",
    "\n",
    "    #append value list to data list\n",
    "    report_data.append(valueList)\n",
    "\n",
    "\n",
    "  df = pd.DataFrame(report_data)\n",
    "  df.columns = columnValues\n",
    "\n",
    "  print(df)\n",
    "  return df"
   ]
  },
  {
   "cell_type": "markdown",
   "metadata": {
    "id": "ZsAaDqQfNF6v"
   },
   "source": [
    "**Using the Scikit-learn Model**"
   ]
  },
  {
   "cell_type": "code",
   "execution_count": null,
   "metadata": {
    "id": "3wh68AwUNOaI"
   },
   "outputs": [],
   "source": [
    "from sklearn.model_selection import train_test_split\n",
    "from sklearn.linear_model import LinearRegression\n",
    "from sklearn.metrics import mean_squared_error\n",
    "\n",
    "# Assuming X contains the features and y contains the target variable (home prices)\n",
    "\n",
    "# Initialize the linear regression model\n",
    "model = LinearRegression()\n",
    "\n",
    "# Train the model\n",
    "model.fit(X_train, y_train)\n",
    "\n",
    "# Make predictions\n",
    "y_pred = model.predict(X_test)\n",
    "\n",
    "# Evaluate the model\n",
    "mse = mean_squared_error(y_test, y_pred)\n",
    "print(\"Mean Squared Error:\", mse)\n",
    "\n",
    "#printPredictionReport(X_test, y_pred)\n",
    "createPredictionReportTable(X_test, y_pred)\n",
    "\n",
    "\n"
   ]
  },
  {
   "cell_type": "markdown",
   "metadata": {
    "id": "ISSBqYlrNrA9"
   },
   "source": [
    "It seems like I made a mistake in providing the interpretation of the MSE value. Let me correct that.\n",
    "\n",
    "A Mean Squared Error (MSE) of approximately 29,129,944,276.34362 indicates the average squared difference between the actual values and the predicted values of the target variable.\n",
    "\n",
    "Here's what this specific MSE value means:\n",
    "\n",
    "1. The square root of the MSE (also known as the Root Mean Squared Error or RMSE) gives a measure of the average error in the same units as the target variable.\n",
    "   In your case, the RMSE would be approximately (√29,129,944,276.34362), which is roughly 170,701.71 (assuming the target variable is measured in the same units as the squared error).\n",
    "\n",
    "2. Interpreting the magnitude of the MSE/RMSE value depends on the scale of your target variable. In some contexts, an RMSE of this magnitude might be considered high, while in others, it might be acceptable depending on the specific problem domain and requirements. It's often helpful to compare the MSE/RMSE to the range of the target variable to get a sense of its relative magnitude."
   ]
  }
 ],
 "metadata": {
  "colab": {
   "provenance": []
  },
  "kernelspec": {
   "display_name": "Python 3 (ipykernel)",
   "language": "python",
   "name": "python3"
  },
  "language_info": {
   "codemirror_mode": {
    "name": "ipython",
    "version": 3
   },
   "file_extension": ".py",
   "mimetype": "text/x-python",
   "name": "python",
   "nbconvert_exporter": "python",
   "pygments_lexer": "ipython3",
   "version": "3.11.5"
  },
  "vscode": {
   "interpreter": {
    "hash": "100c88110a9a602508e8f211ea8fb6a0ec14f85b864e6fed022017c56d97b1fc"
   }
  }
 },
 "nbformat": 4,
 "nbformat_minor": 1
}
